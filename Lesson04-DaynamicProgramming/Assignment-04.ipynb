{
 "cells": [
  {
   "cell_type": "markdown",
   "metadata": {},
   "source": [
    "## Assignment of Lecture 04"
   ]
  },
  {
   "cell_type": "markdown",
   "metadata": {},
   "source": [
    "In this week, we need complete following tasks:\n",
    "+ Re-review the course online programming; \n",
    "+ Choose 1 - 2 books which you interested and keep reading; \n",
    "+ Answer the review questions\n",
    "+ Prepare the basic requirement of our 1st project. "
   ]
  },
  {
   "cell_type": "markdown",
   "metadata": {},
   "source": [
    "### Part I Review the online programming. \n",
    "\n",
    "[see Lecture04-DaynamicProgramming.ipyn](Lecture04-DaynamicProgramming.ipynb)"
   ]
  },
  {
   "cell_type": "markdown",
   "metadata": {},
   "source": [
    "### Part1-2: Finish the Solution Parse Part of Edit-Distance\n",
    "[see Lecture04-DaynamicProgramming.ipyn](Lecture04-DaynamicProgramming.ipynb)"
   ]
  },
  {
   "cell_type": "markdown",
   "metadata": {},
   "source": [
    "### Part 2 Choose 1 - 2 books to keep reading: \n",
    "\n",
    "+ SICP, Structure and Interpretation of Computer Programming. \n",
    "+ Introduction to Algorithms \n",
    "+ Artificial Intelligence A Modern Approach (3rd Edition) \n",
    "+ Code Complete 2 \n",
    "+ Programming Pearls \n",
    "+ Deep Learning\n",
    "+ 黑快与画家\n",
    "+ 数学之美\n",
    "+ Fluent Python \n",
    "+ Hands on Tensorflow \n",
    "+ Conference: *NIPS ICML ICLR ACL AAAI*\n",
    "\n",
    "> most books you may find in our github: https://github.com/Computing-Intelligence/References"
   ]
  },
  {
   "cell_type": "markdown",
   "metadata": {},
   "source": [
    "### Part 3: Answer following questions: "
   ]
  },
  {
   "cell_type": "markdown",
   "metadata": {},
   "source": [
    "1. Why do we need dynamic programming? What's the difference of dynamic programming and previous talked `search` problem? "
   ]
  },
  {
   "cell_type": "markdown",
   "metadata": {},
   "source": [
    "Ans:动态规划通过将问题分解成子问题，用递归的方式求解子问题的最优解，从而得到原始问题的最优解。使用动态规划能顾帮助我们更加快速的找到问题的最优解，适用于解空间较大的问题。\n",
    "\n",
    "搜索方法是从原始问题出发自上而下搜索出所有的解，并通过比较找到最优解；动态规划是通过递归的方式自底向上获得问题的最优解；"
   ]
  },
  {
   "cell_type": "markdown",
   "metadata": {},
   "source": [
    "2. Why do we still need dynamic programming? Why not we train a machine learning to fit a function which could get the `right` answer based on inputs?"
   ]
  },
  {
   "cell_type": "markdown",
   "metadata": {},
   "source": [
    "Ans:机器学习方法需要使用数据去拟合目标函数，对数据集的依赖较大，但是一些问题本身可能并没有积累到一定量的原始数据，因此机器学习可能并不是最优的方法； 其次机器学习方法寻找的是问题的近似解，而动态规划求解的是问题的解析解即最优解。"
   ]
  },
  {
   "cell_type": "markdown",
   "metadata": {},
   "source": [
    "3. Can you catch up at least 3 problems which could solved by Dynamic Programming? "
   ]
  },
  {
   "cell_type": "markdown",
   "metadata": {},
   "source": [
    "Ans: 外卖小哥送货路径选择问题；航班路线规划问题；策略类游戏；"
   ]
  },
  {
   "cell_type": "markdown",
   "metadata": {},
   "source": [
    "4. Can you catch up at least 3 problems wich could sloved by Edit Distance? "
   ]
  },
  {
   "cell_type": "markdown",
   "metadata": {},
   "source": [
    "Ans: google搜索时提供的近似索搜索条目；文章/论文查重；编辑器拼写检查；"
   ]
  },
  {
   "cell_type": "markdown",
   "metadata": {},
   "source": [
    "5. Please summarize the three main features of Dynamic Programming, and make a concise explain for each feature. "
   ]
  },
  {
   "cell_type": "markdown",
   "metadata": {},
   "source": [
    "Ans: \n",
    "- 寻找重复的子问题：分析问题的求解过程，用公式表示出父问题和子问题的关系；\n",
    "- 存储子问题的解：计算子问题的解并保存起来，方便父问题使用；\n",
    "- 解析最优解：第二步存储的解包括所有子问题的解，需要从中提取中最优解的分解过程；"
   ]
  },
  {
   "cell_type": "markdown",
   "metadata": {},
   "source": [
    "6. What's the disadvantages of Dynamic Programming? (You may need search by yourself in Internet)"
   ]
  },
  {
   "cell_type": "markdown",
   "metadata": {},
   "source": [
    "Ans:\n",
    "- 耗费内存，需要存储大量的中间结果以及使用递归算法本身的内存开销；\n",
    "- 没有通用的求解方案，每个问题都要具体分析；\n",
    "\n"
   ]
  },
  {
   "cell_type": "markdown",
   "metadata": {},
   "source": [
    "## Part 4 Preparation of Project-01"
   ]
  },
  {
   "cell_type": "markdown",
   "metadata": {},
   "source": [
    "1. Using python Flask or Bottle to finish your first simple web app:\n",
    "> https://bottlepy.org/\n",
    "\n",
    "2. Learn what's the SQL, and try some simple SQL operations:\n",
    "> https://www.w3schools.com/sql/sql_intro.asp\n",
    "\n",
    "3. Learn what's the HTML ( *ONLY* need to know the basic things)\n",
    "> https://getbootstrap.com/; https://www.w3schools.com/html/"
   ]
  },
  {
   "cell_type": "markdown",
   "metadata": {},
   "source": [
    "----\n",
    "### (Optinal) Finish the salesman problem: （2维 DP问题）"
   ]
  },
  {
   "cell_type": "code",
   "execution_count": 170,
   "metadata": {},
   "outputs": [],
   "source": [
    "import random\n",
    "import numpy as np\n",
    "from math import sqrt\n",
    "from functools import lru_cache\n",
    "from collections import defaultdict\n",
    "import time"
   ]
  },
  {
   "cell_type": "code",
   "execution_count": 171,
   "metadata": {},
   "outputs": [],
   "source": [
    "# 随机生成坐标点\n",
    "random.seed(1)\n",
    "point_length = 5\n",
    "latitudes = [random.randint(-100, 100) for _ in range(point_length)]\n",
    "longitude = [random.randint(-100, 100) for _ in range(point_length)]"
   ]
  },
  {
   "cell_type": "code",
   "execution_count": 172,
   "metadata": {},
   "outputs": [
    {
     "data": {
      "text/plain": [
       "<matplotlib.collections.PathCollection at 0x11aa23630>"
      ]
     },
     "execution_count": 172,
     "metadata": {},
     "output_type": "execute_result"
    },
    {
     "data": {
      "image/png": "[encoded data removed]",
      "text/plain": [
       "<Figure size 432x288 with 1 Axes>"
      ]
     },
     "metadata": {
      "needs_background": "light"
     },
     "output_type": "display_data"
    }
   ],
   "source": [
    "plt.scatter(latitudes, longitude)"
   ]
  },
  {
   "cell_type": "markdown",
   "metadata": {},
   "source": [
    "给定一个初始点 $P$, 经过所有点全部一次，而且所走过的路程最短? "
   ]
  },
  {
   "cell_type": "markdown",
   "metadata": {},
   "source": [
    "例如： "
   ]
  },
  {
   "cell_type": "code",
   "execution_count": 173,
   "metadata": {},
   "outputs": [],
   "source": [
    "# 随机选择起点坐标\n",
    "chosen_p = (5, 10)"
   ]
  },
  {
   "cell_type": "code",
   "execution_count": 174,
   "metadata": {},
   "outputs": [
    {
     "data": {
      "text/plain": [
       "<matplotlib.collections.PathCollection at 0x11aa60e48>"
      ]
     },
     "execution_count": 174,
     "metadata": {},
     "output_type": "execute_result"
    },
    {
     "data": {
      "image/png": "[encoded data removed]",
      "text/plain": [
       "<Figure size 432x288 with 1 Axes>"
      ]
     },
     "metadata": {
      "needs_background": "light"
     },
     "output_type": "display_data"
    }
   ],
   "source": [
    "# 起点坐标用红色表示\n",
    "plt.scatter(latitudes, longitude)\n",
    "plt.scatter([chosen_p[0]], [chosen_p[1]], color='r')"
   ]
  },
  {
   "cell_type": "markdown",
   "metadata": {},
   "source": [
    "### 求解\n",
    "\n",
    "+ 由问题抽象出递归公式： \n",
    "\n",
    "$$ T(\\text{init}, s) = \\min(T(i, s-i) + \\text{dist}(\\text{init}, i) )$$\n"
   ]
  },
  {
   "cell_type": "markdown",
   "metadata": {},
   "source": [
    "+ 假设有4个点{0, 1, 2, 3}, 从0出发，根据递归公式有：\n",
    "```\n",
    "T(0, {1, 2, 3}) = min(\n",
    "                        T(1, {2, 3}) + dist(0, 1), \n",
    "                        T(2, {1, 3}) + dist(0, 2), \n",
    "                        T(3, {1, 2}) + dist(0, 3)\n",
    "                      ) \n",
    "```\n",
    "\n"
   ]
  },
  {
   "cell_type": "code",
   "execution_count": 175,
   "metadata": {},
   "outputs": [
    {
     "name": "stdout",
     "output_type": "stream",
     "text": [
      "dist matrix init:\n",
      " [[  0.         106.96261029  43.08131846 123.10970717  89.14033879\n",
      "   41.23105626]\n",
      " [106.96261029   0.         146.7548977  229.81949439  86.88498144\n",
      "   95.18928511]\n",
      " [ 43.08131846 146.7548977    0.          84.40379138 129.4681428\n",
      "   80.22468448]\n",
      " [123.10970717 229.81949439  84.40379138   0.         195.65786465\n",
      "  149.58609561]\n",
      " [ 89.14033879  86.88498144 129.4681428  195.65786465   0.\n",
      "   49.25444142]\n",
      " [ 41.23105626  95.18928511  80.22468448 149.58609561  49.25444142\n",
      "    0.        ]]\n"
     ]
    }
   ],
   "source": [
    "# 随机选择起点坐标\n",
    "point_list = [(x, y) for x, y in zip(latitudes, longitude)]\n",
    "point_list.insert(0, chosen_p)\n",
    "point_array = np.array(point_list)\n",
    "\n",
    "# 计算所有坐标点的距离矩阵\n",
    "dist = np.zeros((point_array.shape[0], point_array.shape[0]))\n",
    "for i in range(point_array.shape[0]):\n",
    "    for j in range(point_array.shape[0]):\n",
    "        dist[i, j] = sqrt(np.sum((point_array[i, :] - point_array[j, :]) ** 2))\n",
    "print('dist matrix init:\\n', dist)"
   ]
  },
  {
   "cell_type": "code",
   "execution_count": 176,
   "metadata": {},
   "outputs": [],
   "source": [
    "# @lru_cache(maxsize=2**10)\n",
    "def TSP(start, site_list):\n",
    "    \"\"\"\n",
    "    :param start: start point index\n",
    "    :param site_list: all site list\n",
    "    :return:\n",
    "    \"\"\"\n",
    "    global solution\n",
    "    if all(e == 1 for e in site_list):\n",
    "        return 0\n",
    "\n",
    "    dist_list = np.full(site_list.shape, np.inf)\n",
    "    for site_index, site in enumerate(site_list):\n",
    "        if site == 1 or site_index == start:\n",
    "            continue\n",
    "        site_list[site_index] = 1\n",
    "        dist_list[site_index] = TSP(site_index, site_list) + dist[start, site_index]\n",
    "        site_list[site_index] = 0\n",
    "    \n",
    "    index_min = np.argmin(dist_list)\n",
    "    solution[(str(start), ''.join(str(e) for e in site_list))] = index_min\n",
    "    return dist_list[index_min]"
   ]
  },
  {
   "cell_type": "code",
   "execution_count": 177,
   "metadata": {},
   "outputs": [
    {
     "name": "stdout",
     "output_type": "stream",
     "text": [
      "Min distance: 407.73\n"
     ]
    }
   ],
   "source": [
    "# 定义遍历坐标点的flag数组，已遍历的点flag为1\n",
    "init_site_list = np.zeros(point_array.shape[0], dtype=int)\n",
    "init_site_list[0] = 1\n",
    "solution = defaultdict()\n",
    "result = TSP(0, init_site_list)\n",
    "print('Min distance: %.2f' % result)"
   ]
  },
  {
   "cell_type": "code",
   "execution_count": 178,
   "metadata": {},
   "outputs": [
    {
     "data": {
      "text/plain": [
       "defaultdict(None,\n",
       "            {('4', '111110'): 5,\n",
       "             ('5', '111101'): 4,\n",
       "             ('3', '111100'): 5,\n",
       "             ('3', '111110'): 5,\n",
       "             ('5', '111011'): 3,\n",
       "             ('4', '111010'): 5,\n",
       "             ('3', '111101'): 4,\n",
       "             ('4', '111011'): 3,\n",
       "             ('5', '111001'): 4,\n",
       "             ('2', '111000'): 3,\n",
       "             ('2', '111100'): 5,\n",
       "             ('2', '111110'): 5,\n",
       "             ('5', '110111'): 2,\n",
       "             ('4', '110110'): 5,\n",
       "             ('2', '111101'): 4,\n",
       "             ('4', '110111'): 2,\n",
       "             ('5', '110101'): 4,\n",
       "             ('3', '110100'): 2,\n",
       "             ('2', '111010'): 5,\n",
       "             ('3', '110110'): 2,\n",
       "             ('2', '111011'): 3,\n",
       "             ('3', '110111'): 2,\n",
       "             ('5', '110011'): 2,\n",
       "             ('4', '110010'): 5,\n",
       "             ('2', '111001'): 3,\n",
       "             ('3', '110101'): 2,\n",
       "             ('4', '110011'): 2,\n",
       "             ('5', '110001'): 4,\n",
       "             ('1', '110000'): 4,\n",
       "             ('1', '111000'): 4,\n",
       "             ('1', '111100'): 4,\n",
       "             ('1', '111110'): 5,\n",
       "             ('5', '101111'): 1,\n",
       "             ('4', '101110'): 5,\n",
       "             ('1', '111101'): 4,\n",
       "             ('4', '101111'): 1,\n",
       "             ('5', '101101'): 4,\n",
       "             ('3', '101100'): 5,\n",
       "             ('1', '111010'): 5,\n",
       "             ('3', '101110'): 5,\n",
       "             ('1', '111011'): 3,\n",
       "             ('3', '101111'): 1,\n",
       "             ('5', '101011'): 1,\n",
       "             ('4', '101010'): 1,\n",
       "             ('1', '111001'): 4,\n",
       "             ('3', '101101'): 4,\n",
       "             ('4', '101011'): 1,\n",
       "             ('5', '101001'): 4,\n",
       "             ('2', '101000'): 3,\n",
       "             ('1', '110100'): 4,\n",
       "             ('2', '101100'): 5,\n",
       "             ('1', '110110'): 5,\n",
       "             ('2', '101110'): 5,\n",
       "             ('1', '110111'): 2,\n",
       "             ('2', '101111'): 1,\n",
       "             ('5', '100111'): 2,\n",
       "             ('4', '100110'): 1,\n",
       "             ('1', '110101'): 4,\n",
       "             ('2', '101101'): 4,\n",
       "             ('4', '100111'): 1,\n",
       "             ('5', '100101'): 4,\n",
       "             ('3', '100100'): 2,\n",
       "             ('1', '110010'): 5,\n",
       "             ('2', '101010'): 3,\n",
       "             ('3', '100110'): 2,\n",
       "             ('1', '110011'): 2,\n",
       "             ('2', '101011'): 3,\n",
       "             ('3', '100111'): 2,\n",
       "             ('5', '100011'): 1,\n",
       "             ('4', '100010'): 1,\n",
       "             ('1', '110001'): 4,\n",
       "             ('2', '101001'): 3,\n",
       "             ('3', '100101'): 2,\n",
       "             ('4', '100011'): 1,\n",
       "             ('5', '100001'): 4,\n",
       "             ('0', '100000'): 1})"
      ]
     },
     "execution_count": 178,
     "metadata": {},
     "output_type": "execute_result"
    }
   ],
   "source": [
    "solution"
   ]
  },
  {
   "cell_type": "code",
   "execution_count": 179,
   "metadata": {},
   "outputs": [],
   "source": [
    "# 解析Solution\n",
    "def parse_solution(start, site_list, solution):\n",
    "    if all(e == 1 for e in site_list):\n",
    "        return [start]\n",
    "    \n",
    "    key = (str(start), ''.join(str(e) for e in site_list))\n",
    "    next_point = solution[key]\n",
    "    \n",
    "    site_list[next_point] = 1\n",
    "    next_key = (str(next_point), ''.join(str(e) for e in site_list))\n",
    "    return parse_solution(next_point, site_list, solution) + [start]"
   ]
  },
  {
   "cell_type": "code",
   "execution_count": 180,
   "metadata": {},
   "outputs": [
    {
     "name": "stdout",
     "output_type": "stream",
     "text": [
      "Min path: [0, 1, 4, 5, 2, 3]\n"
     ]
    }
   ],
   "source": [
    "init_site_list = np.zeros(point_array.shape[0], dtype=int)\n",
    "init_site_list[0] = 1\n",
    "min_path = parse_solution(0, init_site_list, solution)[::-1]\n",
    "print('Min path:', min_path)"
   ]
  },
  {
   "cell_type": "code",
   "execution_count": 181,
   "metadata": {},
   "outputs": [
    {
     "data": {
      "text/plain": [
       "[<matplotlib.lines.Line2D at 0x11a8afd68>]"
      ]
     },
     "execution_count": 181,
     "metadata": {},
     "output_type": "execute_result"
    },
    {
     "data": {
      "image/png": "[encoded data removed]",
      "text/plain": [
       "<Figure size 432x288 with 1 Axes>"
      ]
     },
     "metadata": {
      "needs_background": "light"
     },
     "output_type": "display_data"
    }
   ],
   "source": [
    "# 可视化展示结果\n",
    "plt.scatter(latitudes, longitude)\n",
    "plt.scatter([chosen_p[0]], [chosen_p[1]], color='r')\n",
    "x = [point_array[point][0] for point in min_path]\n",
    "y = [point_array[point][1] for point in min_path]\n",
    "plt.plot(x, y, color='black')"
   ]
  }
 ],
 "metadata": {
  "kernelspec": {
   "display_name": "Python 3",
   "language": "python",
   "name": "python3"
  },
  "language_info": {
   "codemirror_mode": {
    "name": "ipython",
    "version": 3
   },
   "file_extension": ".py",
   "mimetype": "text/x-python",
   "name": "python",
   "nbconvert_exporter": "python",
   "pygments_lexer": "ipython3",
   "version": "3.6.8"
  }
 },
 "nbformat": 4,
 "nbformat_minor": 2
}
