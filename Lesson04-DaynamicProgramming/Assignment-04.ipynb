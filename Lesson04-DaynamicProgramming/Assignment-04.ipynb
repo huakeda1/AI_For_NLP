{
 "cells": [
  {
   "cell_type": "markdown",
   "metadata": {},
   "source": [
    "## Assignment of Lecture 04"
   ]
  },
  {
   "cell_type": "markdown",
   "metadata": {},
   "source": [
    "In this week, we need complete following tasks:\n",
    "+ Re-review the course online programming; \n",
    "+ Choose 1 - 2 books which you interested and keep reading; \n",
    "+ Answer the review questions\n",
    "+ Prepare the basic requirement of our 1st project. "
   ]
  },
  {
   "cell_type": "markdown",
   "metadata": {},
   "source": [
    "### Part I Review the online programming. \n",
    "\n",
    "[see Lecture04-DaynamicProgramming.ipyn](Lecture04-DaynamicProgramming.ipynb)"
   ]
  },
  {
   "cell_type": "markdown",
   "metadata": {},
   "source": [
    "### Part1-2: Finish the Solution Parse Part of Edit-Distance\n",
    "[see Lecture04-DaynamicProgramming.ipyn](Lecture04-DaynamicProgramming.ipynb)"
   ]
  },
  {
   "cell_type": "markdown",
   "metadata": {},
   "source": [
    "### Part 2 Choose 1 - 2 books to keep reading: \n",
    "\n",
    "+ SICP, Structure and Interpretation of Computer Programming. \n",
    "+ Introduction to Algorithms \n",
    "+ Artificial Intelligence A Modern Approach (3rd Edition) \n",
    "+ Code Complete 2 \n",
    "+ Programming Pearls \n",
    "+ **Deep Learning**✅\n",
    "+ 黑快与画家\n",
    "+ **数学之美** ✅\n",
    "+ Fluent Python\n",
    "+ Hands on Tensorflow\n",
    "+ Conference: NIPS_ ICML_ ICLR_ ACL_ AAAI\n",
    "\n",
    "> most books you may find in our github: https://github.com/Computing-Intelligence/References"
   ]
  },
  {
   "cell_type": "markdown",
   "metadata": {},
   "source": [
    "### Part 3: Answer following questions: "
   ]
  },
  {
   "cell_type": "markdown",
   "metadata": {},
   "source": [
    "1. Why do we need dynamic programming? What's the difference of dynamic programming and previous talked `search` problem? "
   ]
  },
  {
   "cell_type": "markdown",
   "metadata": {},
   "source": [
    "Ans:动态规划通过将问题分解成子问题，用递归的方式求解子问题的最优解，从而得到原始问题的最优解。使用动态规划能顾帮助我们更加快速的找到问题的最优解，适用于解空间较大的问题。\n",
    "\n",
    "搜索方法是从原始问题出发自上而下搜索出所有的解，并通过比较找到最优解；动态规划是通过递归的方式自底向上获得问题的最优解；"
   ]
  },
  {
   "cell_type": "markdown",
   "metadata": {},
   "source": [
    "2. Why do we still need dynamic programming? Why not we train a machine learning to fit a function which could get the `right` answer based on inputs?"
   ]
  },
  {
   "cell_type": "markdown",
   "metadata": {},
   "source": [
    "Ans:机器学习方法需要使用数据去拟合目标函数，对数据集的依赖较大，但是一些问题本身可能并没有积累到一定量的原始数据，因此机器学习可能并不是最优的方法； 其次机器学习方法寻找的是问题的近似解，而动态规划求解的是问题的解析解即最优解。"
   ]
  },
  {
   "cell_type": "markdown",
   "metadata": {},
   "source": [
    "3. Can you catch up at least 3 problems which could solved by Dynamic Programming? "
   ]
  },
  {
   "cell_type": "markdown",
   "metadata": {},
   "source": [
    "Ans: 外卖小哥送货路径选择问题；航班路线规划问题；策略类游戏；"
   ]
  },
  {
   "cell_type": "markdown",
   "metadata": {},
   "source": [
    "4. Can you catch up at least 3 problems wich could sloved by Edit Distance? "
   ]
  },
  {
   "cell_type": "markdown",
   "metadata": {},
   "source": [
    "Ans: google搜索时提供的近似索搜索条目；文章/论文查重；编辑器拼写检查；"
   ]
  },
  {
   "cell_type": "markdown",
   "metadata": {},
   "source": [
    "5. Please summarize the three main features of Dynamic Programming, and make a concise explain for each feature. "
   ]
  },
  {
   "cell_type": "markdown",
   "metadata": {},
   "source": [
    "Ans: \n",
    "- 寻找重复的子问题：分析问题的求解过程，用公式表示出父问题和子问题的关系；\n",
    "- 存储子问题的解：计算子问题的解并保存起来，方便父问题使用；\n",
    "- 解析最优解：第二步存储的解包括所有子问题的解，需要从中提取中最优解的分解过程；"
   ]
  },
  {
   "cell_type": "markdown",
   "metadata": {},
   "source": [
    "6. What's the disadvantages of Dynamic Programming? (You may need search by yourself in Internet)"
   ]
  },
  {
   "cell_type": "markdown",
   "metadata": {},
   "source": [
    "Ans:\n",
    "- 耗费内存，需要存储大量的中间结果以及使用递归算法本身的内存开销；\n",
    "- 没有通用的求解方案，每个问题都要具体分析；\n",
    "\n"
   ]
  },
  {
   "cell_type": "markdown",
   "metadata": {},
   "source": [
    "## Part 4 Preparation of Project-01"
   ]
  },
  {
   "cell_type": "markdown",
   "metadata": {},
   "source": [
    "1. Using python Flask or Bottle to finish your first simple web app:\n",
    "> https://bottlepy.org/\n",
    "\n",
    "2. Learn what's the SQL, and try some simple SQL operations:\n",
    "> https://www.w3schools.com/sql/sql_intro.asp\n",
    "\n",
    "3. Learn what's the HTML ( *ONLY* need to know the basic things)\n",
    "> https://getbootstrap.com/; https://www.w3schools.com/html/"
   ]
  },
  {
   "cell_type": "markdown",
   "metadata": {},
   "source": [
    "### (Optinal) Finish the k-person-salesman problem:"
   ]
  },
  {
   "cell_type": "code",
   "execution_count": 251,
   "metadata": {},
   "outputs": [],
   "source": [
    "import random\n",
    "import matplotlib.pylab as plt"
   ]
  },
  {
   "cell_type": "code",
   "execution_count": 387,
   "metadata": {},
   "outputs": [],
   "source": [
    "latitudes = [random.randint(-100, 100) for _ in range(40)]\n",
    "longitude = [random.randint(-100, 100) for _ in range(40)]"
   ]
  },
  {
   "cell_type": "code",
   "execution_count": 388,
   "metadata": {},
   "outputs": [
    {
     "data": {
      "text/plain": [
       "<matplotlib.collections.PathCollection at 0x12145e0f0>"
      ]
     },
     "execution_count": 388,
     "metadata": {},
     "output_type": "execute_result"
    },
    {
     "data": {
      "image/png": "[encoded data removed]",
      "text/plain": [
       "<Figure size 432x288 with 1 Axes>"
      ]
     },
     "metadata": {
      "needs_background": "light"
     },
     "output_type": "display_data"
    }
   ],
   "source": [
    "plt.scatter(latitudes, longitude)"
   ]
  },
  {
   "cell_type": "markdown",
   "metadata": {},
   "source": [
    "给定一个初始点 $P$, 已经 $k$个车辆，如何从该点出发，经这 k 个车辆经过所以的点全部一次，而且所走过的路程最短? "
   ]
  },
  {
   "cell_type": "markdown",
   "metadata": {},
   "source": [
    "例如： "
   ]
  },
  {
   "cell_type": "code",
   "execution_count": 389,
   "metadata": {},
   "outputs": [],
   "source": [
    "chosen_p = (5, 10)"
   ]
  },
  {
   "cell_type": "code",
   "execution_count": 390,
   "metadata": {},
   "outputs": [
    {
     "data": {
      "text/plain": [
       "<matplotlib.collections.PathCollection at 0x1214adf98>"
      ]
     },
     "execution_count": 390,
     "metadata": {},
     "output_type": "execute_result"
    },
    {
     "data": {
      "image/png": "[encoded data removed]",
      "text/plain": [
       "<Figure size 432x288 with 1 Axes>"
      ]
     },
     "metadata": {
      "needs_background": "light"
     },
     "output_type": "display_data"
    }
   ],
   "source": [
    "plt.scatter(latitudes, longitude)\n",
    "plt.scatter([chosen_p[0]], [chosen_p[1]], color='r')"
   ]
  },
  {
   "cell_type": "markdown",
   "metadata": {},
   "source": [
    "### [1] 寻找重复的子问题\n",
    "- 寻找起始点到当前所有点中距离最近的一个点，形成一条路线；\n",
    "- 更新起始点为上一步最近的点，继续寻找当前起始点到剩余列表中的最优路线；"
   ]
  },
  {
   "cell_type": "code",
   "execution_count": 391,
   "metadata": {},
   "outputs": [],
   "source": [
    "solution = defaultdict(tuple)"
   ]
  },
  {
   "cell_type": "code",
   "execution_count": 392,
   "metadata": {},
   "outputs": [],
   "source": [
    "from math import sqrt\n",
    "\n",
    "def distance_of(point1, point2):\n",
    "    return sqrt(sum(((point1[index] - point2[index])**2 for index in range(len(point1)))))"
   ]
  },
  {
   "cell_type": "code",
   "execution_count": 393,
   "metadata": {},
   "outputs": [],
   "source": [
    "def get_left_list(orgin_list, to_be_removed):\n",
    "    return [point for point in orgin_list if point != to_be_removed]"
   ]
  },
  {
   "cell_type": "code",
   "execution_count": 394,
   "metadata": {},
   "outputs": [],
   "source": [
    "from functools import lru_cache\n",
    "\n",
    "# TODO\n",
    "@lru_cache(maxsize=2**10)\n",
    "def get_path(point_list):\n",
    "    global solution\n",
    "    if len(point_list) == 1:\n",
    "        solution[point_list[0]] = None\n",
    "        return 0\n",
    "    \n",
    "    start = point_list[0]\n",
    "    \n",
    "    min_distance, min_point = min(\n",
    "        [(distance_of(start, point), point) for point in point_list[1:]],\n",
    "        key=lambda x:x[0])\n",
    "    \n",
    "    min_distance += get_path([min_point] + [point for point in point_list[1:] if point != min_point])\n",
    "    solution[start] = min_point\n",
    "    \n",
    "    return min_distance"
   ]
  },
  {
   "cell_type": "code",
   "execution_count": 395,
   "metadata": {},
   "outputs": [
    {
     "name": "stdout",
     "output_type": "stream",
     "text": [
      "[(5, 10), (11, -59), (68, 23), (66, 84), (23, 57), (-98, -41), (26, -80), (70, -40), (-28, 55), (60, -39), (-21, -8), (31, 29), (-32, 89), (100, 53), (-84, -68), (-82, 11), (-47, -48), (68, 61), (-9, 91), (97, -8), (86, 48), (23, -4), (-21, -67), (49, 81), (-98, -29), (-38, 23), (-12, 88), (76, 55), (70, -33), (-60, 82), (5, -26), (-55, -60), (-35, 47), (-76, 17), (79, 5), (8, -65), (14, -18), (-93, -39), (2, -9), (53, -92), (-36, 46)]\n"
     ]
    }
   ],
   "source": [
    "path_list = [chosen_p] + [(latitudes[index], longitude[index]) for index in range(len(longitude))]\n",
    "\n",
    "print(path_list)"
   ]
  },
  {
   "cell_type": "code",
   "execution_count": 396,
   "metadata": {},
   "outputs": [
    {
     "data": {
      "text/plain": [
       "1040.314764631976"
      ]
     },
     "execution_count": 396,
     "metadata": {},
     "output_type": "execute_result"
    }
   ],
   "source": [
    "get_path(path_list)"
   ]
  },
  {
   "cell_type": "code",
   "execution_count": 397,
   "metadata": {},
   "outputs": [
    {
     "data": {
      "text/plain": [
       "defaultdict(tuple,\n",
       "            {(-21, -8): None,\n",
       "             (-60, 82): (-21, -8),\n",
       "             (-9, 91): (-60, 82),\n",
       "             (-12, 88): (-9, 91),\n",
       "             (-32, 89): (-12, 88),\n",
       "             (-28, 55): (-32, 89),\n",
       "             (-35, 47): (-28, 55),\n",
       "             (-36, 46): (-35, 47),\n",
       "             (-38, 23): (-36, 46),\n",
       "             (-76, 17): (-38, 23),\n",
       "             (-82, 11): (-76, 17),\n",
       "             (-98, -29): (-82, 11),\n",
       "             (-98, -41): (-98, -29),\n",
       "             (-93, -39): (-98, -41),\n",
       "             (-84, -68): (-93, -39),\n",
       "             (-55, -60): (-84, -68),\n",
       "             (-47, -48): (-55, -60),\n",
       "             (-21, -67): (-47, -48),\n",
       "             (53, -92): (-21, -67),\n",
       "             (26, -80): (53, -92),\n",
       "             (8, -65): (26, -80),\n",
       "             (11, -59): (8, -65),\n",
       "             (60, -39): (11, -59),\n",
       "             (70, -40): (60, -39),\n",
       "             (70, -33): (70, -40),\n",
       "             (97, -8): (70, -33),\n",
       "             (79, 5): (97, -8),\n",
       "             (68, 23): (79, 5),\n",
       "             (100, 53): (68, 23),\n",
       "             (86, 48): (100, 53),\n",
       "             (76, 55): (86, 48),\n",
       "             (68, 61): (76, 55),\n",
       "             (66, 84): (68, 61),\n",
       "             (49, 81): (66, 84),\n",
       "             (23, 57): (49, 81),\n",
       "             (31, 29): (23, 57),\n",
       "             (23, -4): (31, 29),\n",
       "             (5, -26): (23, -4),\n",
       "             (14, -18): (5, -26),\n",
       "             (2, -9): (14, -18),\n",
       "             (5, 10): (2, -9)})"
      ]
     },
     "execution_count": 397,
     "metadata": {},
     "output_type": "execute_result"
    }
   ],
   "source": [
    "solution"
   ]
  }
 ],
 "metadata": {
  "kernelspec": {
   "display_name": "Python 3",
   "language": "python",
   "name": "python3"
  },
  "language_info": {
   "codemirror_mode": {
    "name": "ipython",
    "version": 3
   },
   "file_extension": ".py",
   "mimetype": "text/x-python",
   "name": "python",
   "nbconvert_exporter": "python",
   "pygments_lexer": "ipython3",
   "version": "3.7.2"
  }
 },
 "nbformat": 4,
 "nbformat_minor": 2
}
