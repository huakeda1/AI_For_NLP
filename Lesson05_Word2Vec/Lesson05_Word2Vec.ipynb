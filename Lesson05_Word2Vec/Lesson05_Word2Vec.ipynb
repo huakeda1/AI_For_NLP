{
 "cells": [
  {
   "cell_type": "markdown",
   "metadata": {},
   "source": [
    "## 1. Gensim Word2Vec\n",
    "+ Python NLP开源库，可以用来训练自己的word2vec model\n",
    "+ 官网: https://radimrehurek.com/gensim/"
   ]
  },
  {
   "cell_type": "code",
   "execution_count": 1,
   "metadata": {},
   "outputs": [],
   "source": [
    "from gensim.models import Word2Vec"
   ]
  },
  {
   "cell_type": "code",
   "execution_count": 3,
   "metadata": {},
   "outputs": [],
   "source": [
    "sentences = [['cat', 'say', 'meow'], ['dog', 'say', 'woof']]\n",
    "model = Word2Vec(sentences, min_count=1)"
   ]
  },
  {
   "cell_type": "markdown",
   "metadata": {},
   "source": [
    "**Word2Vec hyperparameters**:\n",
    "   + size:词向量的维度，默认为100\n",
    "   + window: 训练时单词的窗口大小，默认为5\n",
    "   + min_count: 单词出现的最少次数，低于该值的单词会被忽略，默认为5\n",
    "   + workers:训练时使用的工作线程，默认为3\n",
    "   + sg: 使用的训练算法，CBOW(0) or skip gram(1)"
   ]
  },
  {
   "cell_type": "code",
   "execution_count": 6,
   "metadata": {},
   "outputs": [
    {
     "name": "stderr",
     "output_type": "stream",
     "text": [
      "/Users/liling/anaconda3/envs/UdaCourse/lib/python3.6/site-packages/ipykernel_launcher.py:1: DeprecationWarning: Call to deprecated `most_similar` (Method will be removed in 4.0.0, use self.wv.most_similar() instead).\n",
      "  \"\"\"Entry point for launching an IPython kernel.\n"
     ]
    },
    {
     "data": {
      "text/plain": [
       "[('dog', 0.1765635907649994),\n",
       " ('meow', 0.0343756377696991),\n",
       " ('woof', -0.03496800363063812),\n",
       " ('say', -0.06903990358114243)]"
      ]
     },
     "execution_count": 6,
     "metadata": {},
     "output_type": "execute_result"
    }
   ],
   "source": [
    "model.most_similar('cat')"
   ]
  },
  {
   "cell_type": "code",
   "execution_count": 7,
   "metadata": {},
   "outputs": [
    {
     "data": {
      "text/plain": [
       "array([-1.0252096e-03,  3.5024254e-04,  8.9952600e-04,  8.1324240e-04,\n",
       "        2.2397263e-03, -9.5045325e-06, -4.9190847e-03,  1.0138294e-03,\n",
       "       -6.2838451e-05, -9.7167504e-04,  3.3577061e-03, -4.2472850e-03,\n",
       "       -4.1422326e-04,  4.7333757e-03, -2.8519572e-03, -1.1334373e-03,\n",
       "        5.5171543e-04, -1.1575579e-03,  4.9818577e-03,  4.5214556e-03,\n",
       "        4.5040757e-03,  4.9387119e-03,  3.3122343e-03, -8.6123793e-04,\n",
       "        4.6829185e-03,  3.5381521e-04,  7.6662033e-04,  4.2540319e-03,\n",
       "       -2.3883095e-03,  2.0248261e-03, -1.7996741e-03, -3.7043875e-03,\n",
       "       -1.3572722e-03,  3.1715005e-03, -2.5201011e-03,  2.6401537e-03,\n",
       "       -2.2769771e-03,  2.3374776e-03, -2.5612239e-03,  1.2790461e-03,\n",
       "       -4.5682681e-03, -4.1522128e-03,  2.6593274e-03, -3.3317008e-03,\n",
       "        3.6170965e-03, -2.4682209e-03, -4.8208451e-03, -1.1158064e-03,\n",
       "       -4.0345476e-03,  2.3370866e-04, -2.6659463e-03, -4.7948947e-03,\n",
       "        3.7836691e-03,  1.1267568e-03, -1.6608114e-03,  4.6734572e-03,\n",
       "        4.9810098e-03,  1.9984655e-03, -4.2662267e-03,  4.3204972e-03,\n",
       "       -5.5212772e-04,  9.4363168e-05, -2.7905579e-03, -3.7829962e-03,\n",
       "        1.7520718e-03, -1.9270714e-03,  3.7174476e-03, -2.8520403e-03,\n",
       "       -1.8794551e-03, -1.8759225e-03,  2.1410997e-03, -4.2259577e-03,\n",
       "        1.8785822e-03, -3.5107450e-03,  2.9986743e-03,  3.9071633e-04,\n",
       "        2.5912065e-03, -4.4835988e-03,  1.4659027e-03,  7.8754697e-04,\n",
       "        7.0560665e-05, -4.5375950e-03, -9.3776977e-04,  3.0776246e-03,\n",
       "        3.6954700e-03,  4.4468278e-03,  2.2858179e-03,  3.7371973e-03,\n",
       "       -2.7275768e-03, -4.8782425e-03, -2.4994784e-03,  2.7141422e-03,\n",
       "        4.7165779e-03, -6.2769634e-04,  1.3254106e-03, -1.8007978e-03,\n",
       "       -1.3959557e-03,  3.0870887e-03,  4.4454918e-03,  1.2071251e-03],\n",
       "      dtype=float32)"
      ]
     },
     "execution_count": 7,
     "metadata": {},
     "output_type": "execute_result"
    }
   ],
   "source": [
    "model.wv['cat']"
   ]
  },
  {
   "cell_type": "markdown",
   "metadata": {},
   "source": [
    "## 2. 使用新闻语料库训练Word2Vec"
   ]
  },
  {
   "cell_type": "code",
   "execution_count": 9,
   "metadata": {},
   "outputs": [],
   "source": [
    "database = '../../DATA/news_data.csv'"
   ]
  },
  {
   "cell_type": "code",
   "execution_count": 10,
   "metadata": {},
   "outputs": [],
   "source": [
    "import pandas as pd"
   ]
  },
  {
   "cell_type": "code",
   "execution_count": 44,
   "metadata": {},
   "outputs": [],
   "source": [
    "content = pd.read_csv(database, encoding='gb18030')"
   ]
  },
  {
   "cell_type": "code",
   "execution_count": 47,
   "metadata": {},
   "outputs": [],
   "source": [
    "content = content.dropna()"
   ]
  },
  {
   "cell_type": "markdown",
   "metadata": {},
   "source": [
    "## 2.1 分词"
   ]
  },
  {
   "cell_type": "code",
   "execution_count": 59,
   "metadata": {},
   "outputs": [],
   "source": [
    "import re\n",
    "import jieba\n",
    "from gensim.models.word2vec import LineSentence"
   ]
  },
  {
   "cell_type": "code",
   "execution_count": 49,
   "metadata": {},
   "outputs": [],
   "source": [
    "CONTENT = content['content']"
   ]
  },
  {
   "cell_type": "code",
   "execution_count": 30,
   "metadata": {},
   "outputs": [],
   "source": [
    "def token(string):\n",
    "    return ' '.join(re.findall('[\\w|\\d]+', string))"
   ]
  },
  {
   "cell_type": "code",
   "execution_count": 51,
   "metadata": {},
   "outputs": [],
   "source": [
    "def cut(string):\n",
    "    return ' '.join(jieba.cut(string))"
   ]
  },
  {
   "cell_type": "code",
   "execution_count": 54,
   "metadata": {},
   "outputs": [],
   "source": [
    "# 将训练语料分词后写入文件\n",
    "with open('news_data_cut.txt', 'w') as f:\n",
    "    for s in CONTENT:\n",
    "        f.write(cut(token(s)) + '\\n')"
   ]
  },
  {
   "cell_type": "markdown",
   "metadata": {},
   "source": [
    "### 2.2 训练Word2Vec模型"
   ]
  },
  {
   "cell_type": "code",
   "execution_count": 56,
   "metadata": {},
   "outputs": [],
   "source": [
    "sentences = LineSentence('news_data_cut.txt')"
   ]
  },
  {
   "cell_type": "code",
   "execution_count": 57,
   "metadata": {},
   "outputs": [
    {
     "name": "stderr",
     "output_type": "stream",
     "text": [
      "/Users/liling/anaconda3/envs/UdaCourse/lib/python3.6/site-packages/smart_open/smart_open_lib.py:398: UserWarning: This function is deprecated, use smart_open.open instead. See the migration notes for details: https://github.com/RaRe-Technologies/smart_open/blob/master/README.rst#migrating-to-the-new-open-function\n",
      "  'See the migration notes for details: %s' % _MIGRATION_NOTES_URL\n"
     ]
    }
   ],
   "source": [
    "model = Word2Vec(sentences, min_count=1)"
   ]
  },
  {
   "cell_type": "code",
   "execution_count": 60,
   "metadata": {},
   "outputs": [
    {
     "data": {
      "text/plain": [
       "array([-3.16706210e-01, -4.45590466e-01,  1.32990524e-03, -9.31498170e-01,\n",
       "       -3.96499366e-01, -4.73828107e-01, -3.21005732e-01, -6.74238086e-01,\n",
       "       -5.44709146e-01, -6.47872210e-01, -8.28664362e-01, -2.16736943e-01,\n",
       "       -1.08737320e-01,  9.50725794e-01,  1.04933694e-01,  7.45153308e-01,\n",
       "        4.54015374e-01, -5.68031132e-01, -1.88064668e-02,  1.58507094e-01,\n",
       "       -1.58174515e-01, -4.14594412e-01,  3.79645318e-01,  1.06192879e-01,\n",
       "       -1.17517292e+00, -1.69858977e-01, -5.77672422e-01, -8.26854482e-02,\n",
       "       -9.19363618e-01, -7.91207373e-01,  2.24485546e-01, -2.20182985e-01,\n",
       "       -9.15670916e-02,  4.60807294e-01,  9.77684975e-01, -5.67515083e-02,\n",
       "       -7.53349578e-03, -1.04793096e+00,  9.65224743e-01,  1.02000880e+00,\n",
       "        4.14113030e-02,  8.28962803e-01,  5.36135733e-01, -6.06545210e-01,\n",
       "       -1.04322064e+00,  1.63138911e-01,  9.12252665e-02, -5.56860380e-02,\n",
       "        1.11694467e+00, -1.21796392e-01,  1.26015615e+00,  6.06578588e-01,\n",
       "       -6.64035439e-01, -3.59081745e-01,  2.07992211e-01,  5.24671555e-01,\n",
       "        8.37203711e-02,  1.03176093e+00, -3.08892548e-01,  5.78129530e-01,\n",
       "        3.67314368e-03,  4.60200697e-01, -1.07684366e-01,  5.55640519e-01,\n",
       "        7.10341036e-01,  1.17281536e-02,  5.81766188e-01, -3.09957564e-01,\n",
       "       -7.49179721e-01, -6.19037509e-01,  8.73068392e-01,  1.00622499e+00,\n",
       "       -1.34990782e-01,  6.58654094e-01, -3.44419554e-02, -3.94988924e-01,\n",
       "        1.07572961e+00, -3.36621702e-02, -6.62489057e-01, -8.89273822e-01,\n",
       "       -1.15119314e+00, -5.38995802e-01,  6.24901235e-01, -2.66659200e-01,\n",
       "        5.67805648e-01,  7.17882216e-01, -2.53519742e-03,  6.33186698e-02,\n",
       "       -2.84455102e-02,  4.48629290e-01, -5.53306580e-01,  1.20380409e-01,\n",
       "        3.16444695e-01,  4.93640214e-01, -2.15786487e-01, -2.81488210e-01,\n",
       "       -1.98171750e-01, -2.94594854e-01, -1.36265671e+00,  3.61469276e-02],\n",
       "      dtype=float32)"
      ]
     },
     "execution_count": 60,
     "metadata": {},
     "output_type": "execute_result"
    }
   ],
   "source": [
    "model.wv['小米']"
   ]
  },
  {
   "cell_type": "code",
   "execution_count": 67,
   "metadata": {},
   "outputs": [
    {
     "data": {
      "text/plain": [
       "[('代工', 0.7128967046737671),\n",
       " ('空调', 0.6765233278274536),\n",
       " ('Paytm', 0.6634405851364136),\n",
       " ('华为', 0.6613297462463379),\n",
       " ('苹果', 0.6596662998199463),\n",
       " ('茶叶', 0.6523712277412415),\n",
       " ('高科技', 0.6487736105918884),\n",
       " ('中药', 0.6457774639129639),\n",
       " ('生鲜', 0.6370936036109924),\n",
       " ('电商', 0.6343600749969482)]"
      ]
     },
     "execution_count": 67,
     "metadata": {},
     "output_type": "execute_result"
    }
   ],
   "source": [
    "model.wv.most_similar('小米')"
   ]
  },
  {
   "cell_type": "code",
   "execution_count": 65,
   "metadata": {},
   "outputs": [
    {
     "data": {
      "text/plain": [
       "[('谷歌', 0.682900607585907),\n",
       " ('亚马逊', 0.6691598892211914),\n",
       " ('小米', 0.6596662998199463),\n",
       " ('微软', 0.6547811031341553),\n",
       " ('音箱', 0.6402027606964111),\n",
       " ('华为', 0.636533260345459),\n",
       " ('百度', 0.6337459087371826),\n",
       " ('智能', 0.6224048733711243),\n",
       " ('智能手机', 0.6182833909988403),\n",
       " ('空调', 0.6028869152069092)]"
      ]
     },
     "execution_count": 65,
     "metadata": {},
     "output_type": "execute_result"
    }
   ],
   "source": [
    "model.wv.most_similar('苹果')"
   ]
  },
  {
   "cell_type": "code",
   "execution_count": 66,
   "metadata": {
    "scrolled": true
   },
   "outputs": [
    {
     "data": {
      "text/plain": [
       "[('电脑', 0.8197458982467651),\n",
       " ('扫码', 0.7714399695396423),\n",
       " ('APP', 0.7663639187812805),\n",
       " ('刷', 0.7377079725265503),\n",
       " ('二维码', 0.7342149019241333),\n",
       " ('智能手机', 0.7300183176994324),\n",
       " ('摄像头', 0.7200523018836975),\n",
       " ('下单', 0.7168540954589844),\n",
       " ('短信', 0.7141807079315186),\n",
       " ('屏幕', 0.7110484838485718)]"
      ]
     },
     "execution_count": 66,
     "metadata": {},
     "output_type": "execute_result"
    }
   ],
   "source": [
    "model.wv.most_similar('手机')"
   ]
  },
  {
   "cell_type": "markdown",
   "metadata": {},
   "source": [
    "## 3. NER 和 Dependency Parsing \n",
    "+ 区分出人名（person），组织机构名（organization）和地点（location）\n",
    "+ 哈工大 LTP：https://stanfordnlp.github.io/CoreNLP/\n",
    "+ Stanford CoreNLP：􏱋􏲓􏱔􏲒􏲤􏲘􏲦􏰓 􏲘􏲦􏰭􏱕􏱙􏱗􏰀https://stanfordnlp.github.io/CoreNLP/"
   ]
  }
 ],
 "metadata": {
  "kernelspec": {
   "display_name": "Python 3",
   "language": "python",
   "name": "python3"
  },
  "language_info": {
   "codemirror_mode": {
    "name": "ipython",
    "version": 3
   },
   "file_extension": ".py",
   "mimetype": "text/x-python",
   "name": "python",
   "nbconvert_exporter": "python",
   "pygments_lexer": "ipython3",
   "version": "3.6.8"
  }
 },
 "nbformat": 4,
 "nbformat_minor": 2
}
