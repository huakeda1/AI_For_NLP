{
 "cells": [
  {
   "cell_type": "markdown",
   "metadata": {},
   "source": [
    "## 1. ML基础概念复习"
   ]
  },
  {
   "cell_type": "markdown",
   "metadata": {},
   "source": [
    "1. 机器学习方法主要用在什么特点的场景下？  \n",
    "    **Ans**: 问题可建模，有数据。\n",
    "\n",
    "\n",
    "2. 提出 3 个你认为使用了机器学习方法的现实场景.  \n",
    "    **Ans**: 垃圾邮件检测；商品推荐；智能客服。  \n",
    "   \n",
    "   \n",
    "3. 提出 3 个你认为可以使用机器学习但是还没有使用机器学习方法的场景.   \n",
    "    **Ans**: 垃圾智能分拣；森林火灾预警；寻人启事在线搜索；\n",
    "\n",
    "  \n",
    "4. 什么是“模型”？ 为什么说“All models are wrong, but some useful”.  \n",
    "    **Ans**:模型是对现实问题的抽象。因为任何模型都有其局限性，只能描述问题的某些方面，无法描述全貌。\n",
    "\n",
    "  \n",
    "5. Classification 和 Regression 主要针对什么？ 有什么区别？   \n",
    "    **Ans**: Classifiction 和 Regression主要针对监督学习。  \n",
    "    Classification产生的是类别型的数据，类别本身没有大小关系，Regression 产生的是数值型的数据。\n",
    "\n",
    "        \n",
    "6. precision， recall，f1, auc 分别是什么意思？ 假设一个城市有 10000 人，有 30 个犯罪分子，警察抓到了 35 个人，其中 20 个是犯罪分子，请问这个警察的 precision, recall, f1,auc 分别是什么？   \n",
    "    **Ans**:   \n",
    "   $$\n",
    "   precision = \\frac{tp}{tp + fp} ,\n",
    "   recall = \\frac{tp}{tp + fn}\n",
    "   $$\n",
    "   \n",
    "   \n",
    "   $$\n",
    "   f1 = 2 * \\frac{precision * recall}{precision + recall}, \n",
    "   auc = \\frac{\\text{classified right}}{all}  \n",
    "   $$\n",
    "    \n",
    "       precision = 20 / 35 = 4/7 = 0.5714  \n",
    "       recall = 20 / 30 = 2/3  = 0.6667  \n",
    "       f1 =  2 * ((4/7 * 2/3) / (4/7 + 2/3) = 0.6154  \n",
    "       auc = 1 - (35-20 + 30-20) / 10000 = 0.9975  \n",
    "\n",
    "\n",
    "7. 请提出两种场景，第一种场景下，对模型的评估很注重 precision, 第二种很注重 recall. \n",
    "\n",
    "    **Ans**: 垃圾邮件分类模型更加注重precision;   疾病诊断模型更加注重recall.\n",
    "\n"
   ]
  },
  {
   "cell_type": "markdown",
   "metadata": {},
   "source": [
    "8. 什么是 Overfitting， 什么是 Underfitting?\n",
    "\n",
    "    **Ans**:Overfitting是指模型在训练集上表现良好，但是在测试集上表现很差；  \n",
    "    Underfitting是指模型在训练集和测试集上的表现都不好；  \n",
    "\n",
    "   \n",
    "9. Lazy-Learning， Lazy在哪里？   \n",
    "    **Ans**: Lazy Leaning指模型对问题的抽象层次较低，无法很好的描述问题，模型容易受到局部数据的影响，可能会产生欠拟合等问题。例如KNN模型。\n",
    "      \n",
    "\n",
    "10. Median， Mode， Mean分别是什么？ 有什么意义？   \n",
    "    **Ans**:  Median是中位数，Mode是众数，Mean是均值。\n",
    "    在数据预处理阶段可以通过分析数据的上述指标判断数据的分布情况，从而制定不同的预处理方案。\n",
    "    \n",
    "\n",
    "11. Outlinear（异常值、离群值）是什么？ 如何定义？   \n",
    "    **Ans**: 异常值是指在数据的分布中可以明显观察到的偏离主要数据分布的部分样本点。\n",
    "    异常值的定义视具体问题自行定义。  \n",
    "   \n",
    "   \n",
    "12. Bias 和 Variance 有什么关系？ 他们之间为什么是一种 tradeoff 的？   \n",
    "    **Ans**: Bias和Variance是博弈关系，在训练模型时一般选择二者较为折中的值。    \n",
    "    当Bias较高时，表示模型的表现能力较差，此时模型对数据波动的敏感性就不强，即Variance较低；  \n",
    "    相反，当Variance较高时，表示模型对于数据的波动较为敏感，即模型可能出现了过拟合问题，此时的Bias较低。\n",
    "   \n",
    "   \n",
    "13. Train， Validation，Test 数据集之间是什么关系？ 为什么要这么划分？   \n",
    "    **Ans**: Train，Validation，Test数据集是不相交的关系。 因为在训练模型时，需要使用Validation数据集评估模型，根据评估结果再对模型进行优化，当训练结束时，再使用Test数据集对最终的模型进行测试。模型在训练过程中不能见过测试集，否则会影响模型的准确性。"
   ]
  },
  {
   "cell_type": "markdown",
   "metadata": {},
   "source": [
    "14. Supervised Learning 的 Supervised 体现在什么地方？   \n",
    "    **Ans**: Supervised 体现在模型的训练过程中，有明确的方法对模型的准确性进行评估。\n",
    "   \n",
    "   \n",
    "15. Linear Regression 中，什么是“线性关系”？  \n",
    "    **Ans**: 线性关系是指模型中的权重和参数是经过线性变换得到目标值的。\n",
    "     \n",
    "  \n",
    "16. Linear Regression中，Loss 函数怎么定义的？ 为什么要写成这样？ 什么是凸函数？ 优化中有什么意义？   \n",
    "    **Ans**: Loss函数是MSE，可以保证预测值与真实值误差较大时损失也较大。  \n",
    "    凸函数是指函数上任意两点连线的平均值大于对应点的函数值，具体含义见wiki。  \n",
    "    凸函数可以通过梯度下降等优化方法求解最小值。\n",
    "  \n",
    "  \n",
    "17. 简述Gradient Descent的过程，以 $y = -10 * x^2 + 3x + 4 $ 为例，从一个任一点 $ x = 10 $ 开始，如何根据 Gradient Descent 找到最值。   \n",
    "    **Ans**: \n",
    "    $$ \\frac{dy}{dx} = -20x + 3 $$\n",
    "    $$ x = x -  \\frac{dy}{dx} * 0.01 $$\n",
    "    在每一个x处求解梯度，根据梯度值更新x值，并记录y值，重复更新x值的过程知道y值基本不变时即为最小值。\n",
    "  \n",
    "   \n",
    "18. 一般在机器学习数量时，会做一个预处理（Normalization）， 简述 Normalization 的过程，以及数据经过 Normalization之后的平均值和标准差的情况。  \n",
    "    **Ans**: \n",
    "    $$ x_{norm} = (x - x_{mean}) / x_{std} $$\n",
    "    Normalization即对数据进行Scaling和标准化，经过Normalization之后平均值和标准差都分布在较均匀的范围内。\n",
    "    \n",
    "\n",
    "        \n",
    "19. Logstic Regression 的 Logstic 是什么曲线，被用在什么地方？   \n",
    "    **Ans**: sigmoid曲线，被用于将数值数据转换成[0, 1]区间的概率。\n",
    "        \n",
    "        \n",
    "20. Logstic Regression 的 Loss 函数 Cross Entropy 是怎么样的形式？ 有什么意义？   \n",
    "    **Ans**：\n",
    "    $$\n",
    "    loss(\\theta) = -\\frac{1}{m}\\prod_{i=1}^m y_i \\log h(x_i)  + (1-y_i)\\log(1-h(x_i))\n",
    "    $$\n",
    "    损失函数保证预测类别的概率和真实类别的差距最小。"
   ]
  },
  {
   "cell_type": "markdown",
   "metadata": {},
   "source": [
    "## 2. 判断新闻抄袭"
   ]
  },
  {
   "cell_type": "markdown",
   "metadata": {},
   "source": [
    "+ 问题描述： 在新闻出版业中一个常见的问题就是新闻版权抄袭，所以我们现在为了避免这个事情，需要建立一个模型，判断这个文章是不是由某个新闻出版单位出版的。 在我们这个问题里，我们需要建立一个模型，该模型接受一个作为文本的输入，然后判断该文本是不是由“新华社”发布的。"
   ]
  },
  {
   "cell_type": "markdown",
   "metadata": {},
   "source": [
    "1. 为什么此问题应该用机器学习方法？  \n",
    "**Ans**：问题可以建模，并且有训练数据。"
   ]
  },
  {
   "cell_type": "markdown",
   "metadata": {},
   "source": [
    "2. 问什么要对文本进行向量化？ 如何进行文本向量化表示？ （请使用tfidf 或者词向量）  \n",
    "*hint: 如果你使用 tfidf，则需要 scikit learn， 如果你需要词向量，则需要 gensim*  \n",
    "    \n",
    "    **Ans**: 计算机无法直接处理文本数据，需要进行向量化表示；向量化表示有可以使用tfidf或者是Embedding。"
   ]
  },
  {
   "cell_type": "markdown",
   "metadata": {},
   "source": [
    "3. 请对数据进行Preprocessing, Normalization 操作 （你需要在 Preprocssing 的时候，把文章开头的“新华社”3 个字去掉。如果不去掉，会出现什么问题？）  \n",
    " **Ans：**不去掉相当于特征数据泄露了标签的值，模型会过拟合。"
   ]
  },
  {
   "cell_type": "markdown",
   "metadata": {},
   "source": [
    "4. 请确定模型的 Baseline 以及确定评测指标(Evaluation).  "
   ]
  },
  {
   "cell_type": "markdown",
   "metadata": {},
   "source": [
    "5. 尝试不同的模型、不同的参数，观察结果变化。"
   ]
  },
  {
   "cell_type": "markdown",
   "metadata": {},
   "source": [
    "6. 依据模型的表现，进行参数调节。"
   ]
  },
  {
   "cell_type": "markdown",
   "metadata": {},
   "source": [
    "-----"
   ]
  },
  {
   "cell_type": "markdown",
   "metadata": {},
   "source": [
    "### 2.1 Logistic Regression"
   ]
  },
  {
   "cell_type": "code",
   "execution_count": 2,
   "metadata": {},
   "outputs": [],
   "source": [
    "import pandas as pd\n",
    "import numpy as np\n",
    "import re\n",
    "import jieba\n",
    "\n",
    "from sklearn.model_selection import train_test_split\n",
    "from sklearn.metrics import fbeta_score\n",
    "from sklearn.feature_extraction.text import TfidfVectorizer\n",
    "from sklearn.linear_model import LogisticRegression\n",
    "from sklearn import pipeline\n",
    "from sklearn.svm import SVC\n",
    "import os\n",
    "from random import sample\n",
    "import scipy.sparse as sp"
   ]
  },
  {
   "cell_type": "markdown",
   "metadata": {},
   "source": [
    "### 【1】读取数据"
   ]
  },
  {
   "cell_type": "code",
   "execution_count": 3,
   "metadata": {},
   "outputs": [],
   "source": [
    "df =  pd.read_csv('../../DATA/news_data.csv', encoding='gb18030')"
   ]
  },
  {
   "cell_type": "code",
   "execution_count": 4,
   "metadata": {},
   "outputs": [
    {
     "data": {
      "text/html": [
       "<div>\n",
       "<style scoped>\n",
       "    .dataframe tbody tr th:only-of-type {\n",
       "        vertical-align: middle;\n",
       "    }\n",
       "\n",
       "    .dataframe tbody tr th {\n",
       "        vertical-align: top;\n",
       "    }\n",
       "\n",
       "    .dataframe thead th {\n",
       "        text-align: right;\n",
       "    }\n",
       "</style>\n",
       "<table border=\"1\" class=\"dataframe\">\n",
       "  <thead>\n",
       "    <tr style=\"text-align: right;\">\n",
       "      <th></th>\n",
       "      <th>id</th>\n",
       "      <th>author</th>\n",
       "      <th>source</th>\n",
       "      <th>content</th>\n",
       "      <th>feature</th>\n",
       "      <th>title</th>\n",
       "      <th>url</th>\n",
       "    </tr>\n",
       "  </thead>\n",
       "  <tbody>\n",
       "    <tr>\n",
       "      <th>0</th>\n",
       "      <td>89617</td>\n",
       "      <td>NaN</td>\n",
       "      <td>快科技@http://www.kkj.cn/</td>\n",
       "      <td>此外，自本周（6月12日）起，除小米手机6等15款机型外，其余机型已暂停更新发布（含开发版/...</td>\n",
       "      <td>{\"type\":\"科技\",\"site\":\"cnbeta\",\"commentNum\":\"37\"...</td>\n",
       "      <td>小米MIUI 9首批机型曝光：共计15款</td>\n",
       "      <td>http://www.cnbeta.com/articles/tech/623597.htm</td>\n",
       "    </tr>\n",
       "    <tr>\n",
       "      <th>1</th>\n",
       "      <td>89616</td>\n",
       "      <td>NaN</td>\n",
       "      <td>快科技@http://www.kkj.cn/</td>\n",
       "      <td>骁龙835作为唯一通过Windows 10桌面平台认证的ARM处理器，高通强调，不会因为只考...</td>\n",
       "      <td>{\"type\":\"科技\",\"site\":\"cnbeta\",\"commentNum\":\"15\"...</td>\n",
       "      <td>骁龙835在Windows 10上的性能表现有望改善</td>\n",
       "      <td>http://www.cnbeta.com/articles/tech/623599.htm</td>\n",
       "    </tr>\n",
       "    <tr>\n",
       "      <th>2</th>\n",
       "      <td>89615</td>\n",
       "      <td>NaN</td>\n",
       "      <td>快科技@http://www.kkj.cn/</td>\n",
       "      <td>此前的一加3T搭载的是3400mAh电池，DashCharge快充规格为5V/4A。\\r\\n...</td>\n",
       "      <td>{\"type\":\"科技\",\"site\":\"cnbeta\",\"commentNum\":\"18\"...</td>\n",
       "      <td>一加手机5细节曝光：3300mAh、充半小时用1天</td>\n",
       "      <td>http://www.cnbeta.com/articles/tech/623601.htm</td>\n",
       "    </tr>\n",
       "    <tr>\n",
       "      <th>3</th>\n",
       "      <td>89614</td>\n",
       "      <td>NaN</td>\n",
       "      <td>新华社</td>\n",
       "      <td>这是6月18日在葡萄牙中部大佩德罗冈地区拍摄的被森林大火烧毁的汽车。新华社记者张立云摄\\r\\n</td>\n",
       "      <td>{\"type\":\"国际新闻\",\"site\":\"环球\",\"commentNum\":\"0\",\"j...</td>\n",
       "      <td>葡森林火灾造成至少62人死亡 政府宣布进入紧急状态（组图）</td>\n",
       "      <td>http://world.huanqiu.com/hot/2017-06/10866126....</td>\n",
       "    </tr>\n",
       "    <tr>\n",
       "      <th>4</th>\n",
       "      <td>89613</td>\n",
       "      <td>胡淑丽_MN7479</td>\n",
       "      <td>深圳大件事</td>\n",
       "      <td>（原标题：44岁女子跑深圳约会网友被拒，暴雨中裸身奔走……）\\r\\n@深圳交警微博称：昨日清...</td>\n",
       "      <td>{\"type\":\"新闻\",\"site\":\"网易热门\",\"commentNum\":\"978\",...</td>\n",
       "      <td>44岁女子约网友被拒暴雨中裸奔 交警为其披衣相随</td>\n",
       "      <td>http://news.163.com/17/0618/00/CN617P3Q0001875...</td>\n",
       "    </tr>\n",
       "  </tbody>\n",
       "</table>\n",
       "</div>"
      ],
      "text/plain": [
       "      id      author                  source  \\\n",
       "0  89617         NaN  快科技@http://www.kkj.cn/   \n",
       "1  89616         NaN  快科技@http://www.kkj.cn/   \n",
       "2  89615         NaN  快科技@http://www.kkj.cn/   \n",
       "3  89614         NaN                     新华社   \n",
       "4  89613  胡淑丽_MN7479                   深圳大件事   \n",
       "\n",
       "                                             content  \\\n",
       "0  此外，自本周（6月12日）起，除小米手机6等15款机型外，其余机型已暂停更新发布（含开发版/...   \n",
       "1  骁龙835作为唯一通过Windows 10桌面平台认证的ARM处理器，高通强调，不会因为只考...   \n",
       "2  此前的一加3T搭载的是3400mAh电池，DashCharge快充规格为5V/4A。\\r\\n...   \n",
       "3    这是6月18日在葡萄牙中部大佩德罗冈地区拍摄的被森林大火烧毁的汽车。新华社记者张立云摄\\r\\n   \n",
       "4  （原标题：44岁女子跑深圳约会网友被拒，暴雨中裸身奔走……）\\r\\n@深圳交警微博称：昨日清...   \n",
       "\n",
       "                                             feature  \\\n",
       "0  {\"type\":\"科技\",\"site\":\"cnbeta\",\"commentNum\":\"37\"...   \n",
       "1  {\"type\":\"科技\",\"site\":\"cnbeta\",\"commentNum\":\"15\"...   \n",
       "2  {\"type\":\"科技\",\"site\":\"cnbeta\",\"commentNum\":\"18\"...   \n",
       "3  {\"type\":\"国际新闻\",\"site\":\"环球\",\"commentNum\":\"0\",\"j...   \n",
       "4  {\"type\":\"新闻\",\"site\":\"网易热门\",\"commentNum\":\"978\",...   \n",
       "\n",
       "                           title  \\\n",
       "0           小米MIUI 9首批机型曝光：共计15款   \n",
       "1     骁龙835在Windows 10上的性能表现有望改善   \n",
       "2      一加手机5细节曝光：3300mAh、充半小时用1天   \n",
       "3  葡森林火灾造成至少62人死亡 政府宣布进入紧急状态（组图）   \n",
       "4       44岁女子约网友被拒暴雨中裸奔 交警为其披衣相随   \n",
       "\n",
       "                                                 url  \n",
       "0     http://www.cnbeta.com/articles/tech/623597.htm  \n",
       "1     http://www.cnbeta.com/articles/tech/623599.htm  \n",
       "2     http://www.cnbeta.com/articles/tech/623601.htm  \n",
       "3  http://world.huanqiu.com/hot/2017-06/10866126....  \n",
       "4  http://news.163.com/17/0618/00/CN617P3Q0001875...  "
      ]
     },
     "execution_count": 4,
     "metadata": {},
     "output_type": "execute_result"
    }
   ],
   "source": [
    "df.head()"
   ]
  },
  {
   "cell_type": "markdown",
   "metadata": {},
   "source": [
    "这里数据集中选取content字段为特征，source是标签。\n",
    "【也可以选择其他字段作为特征，比较效果】"
   ]
  },
  {
   "cell_type": "code",
   "execution_count": 10,
   "metadata": {},
   "outputs": [
    {
     "data": {
      "text/plain": [
       "新华社                                        78661\n",
       "微博                                          2477\n",
       "中国证券报?中证网                                    538\n",
       "中国新闻网                                        525\n",
       "参考消息网                                        385\n",
       "环球网                                          308\n",
       "南方日报第01版                                     278\n",
       "中国台湾网                                        233\n",
       "央广网                                          197\n",
       "新华网                                          172\n",
       "新浪体育                                         132\n",
       "人民网                                          122\n",
       "环球时报                                         119\n",
       "中国经济网                                         96\n",
       "参考军事                                          95\n",
       "央视网                                           94\n",
       "证券时报网                                         84\n",
       "cnBeta.COM                                    82\n",
       "中国证券网                                         80\n",
       "环球时报-环球网                                      73\n",
       "广州日报第01版                                      64\n",
       "中国网财经                                         61\n",
       "每日经济新闻                                        58\n",
       "澎湃新闻网                                         54\n",
       "海南日报第001版                                     54\n",
       "证券时报                                          51\n",
       "21世纪经济报道                                      51\n",
       "证券日报                                          51\n",
       "凤凰体育                                          49\n",
       "凤凰网娱乐                                         48\n",
       "                                           ...  \n",
       "遂宁日报网                                          1\n",
       "每日甘肃网                                          1\n",
       "科学大院微信公众号                                      1\n",
       "生意社                                            1\n",
       "南国今报                                           1\n",
       "中国日报网站                                         1\n",
       "映象网                                            1\n",
       "浙商证券                                           1\n",
       "成都商报第14版                                       1\n",
       "济南网络电视台                                        1\n",
       "龙源期刊网                                          1\n",
       "广州日报第H1版                                       1\n",
       "重庆时间                                           1\n",
       "法律法规网                                          1\n",
       "上海观察                                           1\n",
       "深交所网站                                          1\n",
       "安徽网                                            1\n",
       "广州日报第H2版                                       1\n",
       "DiyiTech                                       1\n",
       "新民晚报                                           1\n",
       "开源证券                                           1\n",
       "海清FICC频道                                       1\n",
       "三湘都市报                                          1\n",
       "新旅界                                            1\n",
       "经济观察网@                                         1\n",
       "一手video                                        1\n",
       "湖北日报第27版                                       1\n",
       "安卓中国@https://www.anzhuo.cn/news/p_19915        1\n",
       "迈科期货                                           1\n",
       "科技快报                                           1\n",
       "Name: source, Length: 974, dtype: int64"
      ]
     },
     "execution_count": 10,
     "metadata": {},
     "output_type": "execute_result"
    }
   ],
   "source": [
    "# 查看类别分布\n",
    "df['source'].value_counts()"
   ]
  },
  {
   "cell_type": "code",
   "execution_count": 7,
   "metadata": {},
   "outputs": [],
   "source": [
    "# 新华社和新华网是隶属关系\n",
    "df['source'].replace(['新华网'], ['新华社'], inplace=True)"
   ]
  },
  {
   "cell_type": "code",
   "execution_count": 8,
   "metadata": {},
   "outputs": [
    {
     "data": {
      "text/plain": [
       "89611"
      ]
     },
     "execution_count": 8,
     "metadata": {},
     "output_type": "execute_result"
    }
   ],
   "source": [
    "len(df)"
   ]
  },
  {
   "cell_type": "code",
   "execution_count": 9,
   "metadata": {},
   "outputs": [],
   "source": [
    "from_xinhua = df[df['source'] == '新华社']"
   ]
  },
  {
   "cell_type": "code",
   "execution_count": 10,
   "metadata": {},
   "outputs": [
    {
     "data": {
      "text/plain": [
       "78833"
      ]
     },
     "execution_count": 10,
     "metadata": {},
     "output_type": "execute_result"
    }
   ],
   "source": [
    "len(from_xinhua)"
   ]
  },
  {
   "cell_type": "markdown",
   "metadata": {},
   "source": [
    "数据集中的有0.87的新闻都是新华社，因此模型的准确率应该至少为0.87。这里的0.87就是Baseline。可以理解为直接判断所有的新闻都是新华社的，概率即0.87。"
   ]
  },
  {
   "cell_type": "code",
   "execution_count": 11,
   "metadata": {},
   "outputs": [
    {
     "data": {
      "text/plain": [
       "0.8797245873832453"
      ]
     },
     "execution_count": 11,
     "metadata": {},
     "output_type": "execute_result"
    }
   ],
   "source": [
    "len(from_xinhua) / len(df)"
   ]
  },
  {
   "cell_type": "code",
   "execution_count": 13,
   "metadata": {},
   "outputs": [],
   "source": [
    "content = df['content'].tolist()\n",
    "source = df['source'].tolist()"
   ]
  },
  {
   "cell_type": "markdown",
   "metadata": {},
   "source": [
    "### 【2】预处理"
   ]
  },
  {
   "cell_type": "code",
   "execution_count": 14,
   "metadata": {},
   "outputs": [],
   "source": [
    "def token(string):\n",
    "    return ''.join(re.findall('[\\w|\\d]+', string))"
   ]
  },
  {
   "cell_type": "code",
   "execution_count": 15,
   "metadata": {},
   "outputs": [],
   "source": [
    "def cut(string):\n",
    "    return ' '.join(list(jieba.cut(string)))"
   ]
  },
  {
   "cell_type": "code",
   "execution_count": 16,
   "metadata": {},
   "outputs": [],
   "source": [
    "# 去除content中的新华社字段, 避免data leakage\n",
    "def replace(string):\n",
    "    return string.replace('新华社', '')"
   ]
  },
  {
   "cell_type": "code",
   "execution_count": 17,
   "metadata": {},
   "outputs": [],
   "source": [
    "content = [replace(str(data)) for data in content]"
   ]
  },
  {
   "cell_type": "code",
   "execution_count": 18,
   "metadata": {},
   "outputs": [
    {
     "name": "stderr",
     "output_type": "stream",
     "text": [
      "Building prefix dict from /Users/liling/anaconda3/envs/UdaCourse/lib/python3.6/site-packages/jieba/dict.txt ...\n",
      "Loading model from cache /var/folders/jh/b14_bh2n1753x9hvqr8zhtg40000gn/T/jieba.cache\n",
      "Loading model cost 1.4744610786437988 seconds.\n",
      "Prefix dict has been built succesfully.\n"
     ]
    }
   ],
   "source": [
    "content = [cut(token(data)) for data in content]"
   ]
  },
  {
   "cell_type": "code",
   "execution_count": 19,
   "metadata": {},
   "outputs": [
    {
     "data": {
      "text/plain": [
       "'此外 自 本周 6 月 12 日起 除 小米 手机 6 等 15 款 机型 外 其余 机型 已 暂停 更新 发布 含 开发 版 体验版 内测 稳定版 暂不受 影响 以 确保 工程师 可以 集中 全部 精力 进行 系统优化 工作 有人 猜测 这 也 是 将 精力 主要 用到 MIUI9 的 研发 之中 MIUI8 去年 5 月 发布 距今已有 一年 有余 也 是 时候 更新换代 了 当然 关于 MIUI9 的 确切 信息 我们 还是 等待 官方消息'"
      ]
     },
     "execution_count": 19,
     "metadata": {},
     "output_type": "execute_result"
    }
   ],
   "source": [
    "content[0]"
   ]
  },
  {
   "cell_type": "markdown",
   "metadata": {},
   "source": [
    "### 【3】文本向量化\n",
    " + tfidf"
   ]
  },
  {
   "cell_type": "code",
   "execution_count": 20,
   "metadata": {},
   "outputs": [],
   "source": [
    "vectorizer = TfidfVectorizer(max_features=500000)\n",
    "X = vectorizer.fit_transform(content)"
   ]
  },
  {
   "cell_type": "code",
   "execution_count": 21,
   "metadata": {},
   "outputs": [
    {
     "data": {
      "text/plain": [
       "(89611, 268744)"
      ]
     },
     "execution_count": 21,
     "metadata": {},
     "output_type": "execute_result"
    }
   ],
   "source": [
    "X.shape"
   ]
  },
  {
   "cell_type": "markdown",
   "metadata": {},
   "source": [
    "### 【4】Label Encoding"
   ]
  },
  {
   "cell_type": "code",
   "execution_count": 22,
   "metadata": {},
   "outputs": [],
   "source": [
    "label = [1 if data == '新华社' else 0 for data in source ]"
   ]
  },
  {
   "cell_type": "markdown",
   "metadata": {},
   "source": [
    "### 【5】 Trainning"
   ]
  },
  {
   "cell_type": "code",
   "execution_count": 23,
   "metadata": {},
   "outputs": [],
   "source": [
    "X_train, X_test, y_train, y_test = train_test_split(X, label, test_size=0.2, random_state=42)"
   ]
  },
  {
   "cell_type": "code",
   "execution_count": 24,
   "metadata": {},
   "outputs": [
    {
     "data": {
      "text/plain": [
       "((71688, 268744), (17923, 268744))"
      ]
     },
     "execution_count": 24,
     "metadata": {},
     "output_type": "execute_result"
    }
   ],
   "source": [
    "X_train.shape, X_test.shape"
   ]
  },
  {
   "cell_type": "code",
   "execution_count": 25,
   "metadata": {},
   "outputs": [],
   "source": [
    "clf = LogisticRegression(random_state=42, solver='sag', multi_class='multinomial', max_iter=1000)"
   ]
  },
  {
   "cell_type": "code",
   "execution_count": 26,
   "metadata": {
    "scrolled": true
   },
   "outputs": [
    {
     "data": {
      "text/plain": [
       "LogisticRegression(C=1.0, class_weight=None, dual=False, fit_intercept=True,\n",
       "                   intercept_scaling=1, l1_ratio=None, max_iter=1000,\n",
       "                   multi_class='multinomial', n_jobs=None, penalty='l2',\n",
       "                   random_state=42, solver='sag', tol=0.0001, verbose=0,\n",
       "                   warm_start=False)"
      ]
     },
     "execution_count": 26,
     "metadata": {},
     "output_type": "execute_result"
    }
   ],
   "source": [
    "clf.fit(X_train, y_train)"
   ]
  },
  {
   "cell_type": "code",
   "execution_count": 27,
   "metadata": {},
   "outputs": [
    {
     "data": {
      "text/plain": [
       "0.9855736059712726"
      ]
     },
     "execution_count": 27,
     "metadata": {},
     "output_type": "execute_result"
    }
   ],
   "source": [
    "y_pred = clf.predict(X_test)\n",
    "f_beta_score = fbeta_score(y_test, y_pred, beta=1)\n",
    "f_beta_score"
   ]
  },
  {
   "cell_type": "markdown",
   "metadata": {},
   "source": [
    "### 【6】数据不平衡问题\n",
    "+ 从两个类别中随机取样，使得数据分布均衡。"
   ]
  },
  {
   "cell_type": "code",
   "execution_count": 17,
   "metadata": {},
   "outputs": [
    {
     "data": {
      "text/plain": [
       "21556"
      ]
     },
     "execution_count": 17,
     "metadata": {},
     "output_type": "execute_result"
    }
   ],
   "source": [
    "df_pos = df[df['source'] == '新华社']\n",
    "df_neg = df[df['source'] != '新华社']\n",
    "df_pos = df_pos.sample(len(df_neg))\n",
    "df_bal = df_pos.append(df_neg)\n",
    "len(df_bal)"
   ]
  },
  {
   "cell_type": "code",
   "execution_count": 19,
   "metadata": {},
   "outputs": [
    {
     "name": "stderr",
     "output_type": "stream",
     "text": [
      "Building prefix dict from /Users/liling/anaconda3/envs/UdaCourse/lib/python3.6/site-packages/jieba/dict.txt ...\n",
      "Loading model from cache /var/folders/jh/b14_bh2n1753x9hvqr8zhtg40000gn/T/jieba.cache\n",
      "Loading model cost 1.0902378559112549 seconds.\n",
      "Prefix dict has been built succesfully.\n"
     ]
    }
   ],
   "source": [
    "content = df_bal['content'].tolist()\n",
    "source = df_bal['source'].tolist()\n",
    "\n",
    "content = [replace(str(data)) for data in content]\n",
    "content = [cut(token(data)) for data in content]\n",
    "vectorizer = TfidfVectorizer(max_features=500000)\n",
    "X = vectorizer.fit_transform(content)\n",
    "label = [1 if data == '新华社' else 0 for data in source ]"
   ]
  },
  {
   "cell_type": "code",
   "execution_count": 20,
   "metadata": {},
   "outputs": [
    {
     "data": {
      "text/plain": [
       "0.9573257467994309"
      ]
     },
     "execution_count": 20,
     "metadata": {},
     "output_type": "execute_result"
    }
   ],
   "source": [
    "X_train, X_test, y_train, y_test = train_test_split(X, label, test_size=0.2, random_state=42)\n",
    "clf2 = LogisticRegression(random_state=42, solver='sag', multi_class='multinomial', max_iter=1000)\n",
    "clf2.fit(X_train, y_train)\n",
    "y_pred = clf2.predict(X_test)\n",
    "f_beta_score = fbeta_score(y_test, y_pred, beta=1)\n",
    "f_beta_score"
   ]
  }
 ],
 "metadata": {
  "kernelspec": {
   "display_name": "Python 3",
   "language": "python",
   "name": "python3"
  },
  "language_info": {
   "codemirror_mode": {
    "name": "ipython",
    "version": 3
   },
   "file_extension": ".py",
   "mimetype": "text/x-python",
   "name": "python",
   "nbconvert_exporter": "python",
   "pygments_lexer": "ipython3",
   "version": "3.6.8"
  }
 },
 "nbformat": 4,
 "nbformat_minor": 2
}
