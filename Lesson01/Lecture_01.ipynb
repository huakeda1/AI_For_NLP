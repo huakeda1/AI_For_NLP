{
 "cells": [
  {
   "cell_type": "markdown",
   "metadata": {},
   "source": [
    "## Map Search"
   ]
  },
  {
   "cell_type": "code",
   "execution_count": 1,
   "metadata": {},
   "outputs": [],
   "source": [
    "BEIJING, CHANGCHUN, URUMQI, WUHAN, GUANGZHOU, SHENZHEN, BANGKOK, SHANGHAI, NEWYORK =\"\"\"\n",
    "BEIJING CHUNGCHUN URUMQI WUHAN GUANGZHOU SHENZHEN BANGKOK SHANGHAI NEWYORK\n",
    "\"\"\".split()"
   ]
  },
  {
   "cell_type": "markdown",
   "metadata": {},
   "source": [
    "![]()"
   ]
  },
  {
   "cell_type": "markdown",
   "metadata": {},
   "source": [
    "![Map](image/lesson01_map.png)"
   ]
  },
  {
   "cell_type": "markdown",
   "metadata": {},
   "source": [
    "### 1. 问题描述：搜索长春到曼谷的航班路线？"
   ]
  },
  {
   "cell_type": "code",
   "execution_count": 2,
   "metadata": {},
   "outputs": [],
   "source": [
    "connection = {\n",
    "    CHANGCHUN: [BEIJING],\n",
    "    URUMQI: [BEIJING],\n",
    "    BEIJING: [URUMQI, CHANGCHUN, WUHAN, SHENZHEN, NEWYORK],\n",
    "    NEWYORK: [BEIJING, SHANGHAI],\n",
    "    SHANGHAI: [NEWYORK, WUHAN],\n",
    "    WUHAN: [SHANGHAI, BEIJING, GUANGZHOU],\n",
    "    GUANGZHOU: [WUHAN, BANGKOK],\n",
    "    SHENZHEN: [WUHAN, BANGKOK],\n",
    "    BANGKOK: [SHENZHEN, GUANGZHOU]\n",
    "}"
   ]
  },
  {
   "cell_type": "code",
   "execution_count": 3,
   "metadata": {},
   "outputs": [
    {
     "data": {
      "text/plain": [
       "9"
      ]
     },
     "execution_count": 3,
     "metadata": {},
     "output_type": "execute_result"
    }
   ],
   "source": [
    "len(connection)"
   ]
  },
  {
   "cell_type": "markdown",
   "metadata": {},
   "source": [
    "### 2.使用BFS（广度优先搜索）求解问题"
   ]
  },
  {
   "cell_type": "markdown",
   "metadata": {},
   "source": [
    "### 2.1 连接图可视化"
   ]
  },
  {
   "cell_type": "code",
   "execution_count": 4,
   "metadata": {},
   "outputs": [],
   "source": [
    "import networkx as nx"
   ]
  },
  {
   "cell_type": "code",
   "execution_count": 5,
   "metadata": {},
   "outputs": [],
   "source": [
    "%matplotlib inline"
   ]
  },
  {
   "cell_type": "code",
   "execution_count": 6,
   "metadata": {},
   "outputs": [],
   "source": [
    "graph = connection"
   ]
  },
  {
   "cell_type": "code",
   "execution_count": 7,
   "metadata": {},
   "outputs": [],
   "source": [
    "g = nx.Graph(graph)"
   ]
  },
  {
   "cell_type": "code",
   "execution_count": 8,
   "metadata": {},
   "outputs": [
    {
     "data": {
      "image/png": "[encoded data removed]",
      "text/plain": [
       "<Figure size 432x288 with 1 Axes>"
      ]
     },
     "metadata": {},
     "output_type": "display_data"
    }
   ],
   "source": [
    "nx.draw(g)"
   ]
  },
  {
   "cell_type": "markdown",
   "metadata": {},
   "source": [
    "### 2.2 搜索算法"
   ]
  },
  {
   "cell_type": "markdown",
   "metadata": {},
   "source": [
    "### （1）原始算法"
   ]
  },
  {
   "cell_type": "code",
   "execution_count": 9,
   "metadata": {},
   "outputs": [],
   "source": [
    "def navigator(start, destination, connection_graph):\n",
    "    pathes = [start, ]\n",
    "    seen = set()\n",
    "    while pathes:\n",
    "        frontier = pathes.pop()\n",
    "        if frontier in seen:\n",
    "            continue\n",
    "        print('I am standing at:{}'.format(frontier))\n",
    "        successors = connection_graph[frontier]\n",
    "        for s in successors:\n",
    "            print('\\t-----I am look forward:{}'.format(s))\n",
    "            if s == destination: \n",
    "                return pathes\n",
    "        pathes += successors\n",
    "        seen.add(frontier)"
   ]
  },
  {
   "cell_type": "code",
   "execution_count": 10,
   "metadata": {},
   "outputs": [
    {
     "name": "stdout",
     "output_type": "stream",
     "text": [
      "I am standing at:BEIJING\n",
      "\t-----I am look forward:URUMQI\n",
      "\t-----I am look forward:CHUNGCHUN\n",
      "\t-----I am look forward:WUHAN\n",
      "\t-----I am look forward:SHENZHEN\n",
      "\t-----I am look forward:NEWYORK\n",
      "I am standing at:NEWYORK\n",
      "\t-----I am look forward:BEIJING\n",
      "\t-----I am look forward:SHANGHAI\n",
      "I am standing at:SHANGHAI\n",
      "\t-----I am look forward:NEWYORK\n",
      "\t-----I am look forward:WUHAN\n",
      "I am standing at:WUHAN\n",
      "\t-----I am look forward:SHANGHAI\n",
      "\t-----I am look forward:BEIJING\n",
      "\t-----I am look forward:GUANGZHOU\n",
      "I am standing at:GUANGZHOU\n",
      "\t-----I am look forward:WUHAN\n",
      "\t-----I am look forward:BANGKOK\n"
     ]
    },
    {
     "data": {
      "text/plain": [
       "['URUMQI',\n",
       " 'CHUNGCHUN',\n",
       " 'WUHAN',\n",
       " 'SHENZHEN',\n",
       " 'BEIJING',\n",
       " 'NEWYORK',\n",
       " 'SHANGHAI',\n",
       " 'BEIJING']"
      ]
     },
     "execution_count": 10,
     "metadata": {},
     "output_type": "execute_result"
    }
   ],
   "source": [
    "navigator(BEIJING, BANGKOK, connection)"
   ]
  },
  {
   "cell_type": "markdown",
   "metadata": {},
   "source": [
    "### （2） 增加最终搜索路径"
   ]
  },
  {
   "cell_type": "code",
   "execution_count": 11,
   "metadata": {},
   "outputs": [],
   "source": [
    "def navigator2(start, destination, connection_graph):\n",
    "    pathes = [[start]]\n",
    "    seen = set()\n",
    "    while pathes:\n",
    "        path = pathes.pop()\n",
    "        frontier = path[-1]\n",
    "        if frontier in seen:\n",
    "            continue\n",
    "        successors = connection_graph[frontier]\n",
    "        for s in successors:\n",
    "            if s == destination: \n",
    "                path.append(s)\n",
    "                return path\n",
    "            else:\n",
    "                pathes.append(path+[s])\n",
    "        seen.add(frontier)"
   ]
  },
  {
   "cell_type": "code",
   "execution_count": 12,
   "metadata": {},
   "outputs": [
    {
     "data": {
      "text/plain": [
       "['URUMQI', 'BEIJING', 'NEWYORK', 'SHANGHAI', 'WUHAN', 'GUANGZHOU', 'BANGKOK']"
      ]
     },
     "execution_count": 12,
     "metadata": {},
     "output_type": "execute_result"
    }
   ],
   "source": [
    "navigator2(URUMQI, BANGKOK, connection)"
   ]
  },
  {
   "cell_type": "code",
   "execution_count": 13,
   "metadata": {},
   "outputs": [],
   "source": [
    "def draw_route(routes):\n",
    "    print(\"✈️->\".join(routes))"
   ]
  },
  {
   "cell_type": "code",
   "execution_count": 14,
   "metadata": {},
   "outputs": [
    {
     "name": "stdout",
     "output_type": "stream",
     "text": [
      "URUMQI✈️->BEIJING✈️->NEWYORK✈️->SHANGHAI✈️->WUHAN✈️->GUANGZHOU✈️->BANGKOK\n"
     ]
    }
   ],
   "source": [
    "draw_route(navigator2(URUMQI, BANGKOK, connection))"
   ]
  },
  {
   "cell_type": "markdown",
   "metadata": {},
   "source": [
    "### （3）优化为最短路径"
   ]
  },
  {
   "cell_type": "code",
   "execution_count": 15,
   "metadata": {},
   "outputs": [],
   "source": [
    "def navigator3(start, destination, connection_graph):\n",
    "    pathes = [[start]]\n",
    "    seen = set()\n",
    "    while pathes:\n",
    "        # 移除第一个元素，默认移除最后一个元素\n",
    "        path = pathes.pop(0)\n",
    "        frontier = path[-1]\n",
    "        \n",
    "        if frontier in seen:\n",
    "            continue\n",
    "        successors = connection_graph[frontier]\n",
    "        \n",
    "        for s in successors:\n",
    "            if s == destination: \n",
    "                path.append(s)\n",
    "                return path\n",
    "            else:\n",
    "                pathes.append(path+[s])\n",
    "        # 按照元素列表长度排序\n",
    "        pathes = sorted(pathes, key=len)\n",
    "        seen.add(frontier)"
   ]
  },
  {
   "cell_type": "code",
   "execution_count": 16,
   "metadata": {},
   "outputs": [
    {
     "name": "stdout",
     "output_type": "stream",
     "text": [
      "URUMQI✈️->BEIJING✈️->SHENZHEN✈️->BANGKOK\n"
     ]
    }
   ],
   "source": [
    "draw_route(navigator3(URUMQI, BANGKOK, connection))"
   ]
  },
  {
   "cell_type": "markdown",
   "metadata": {},
   "source": [
    "### 3. BFS 和 DFS 的区别"
   ]
  },
  {
   "cell_type": "code",
   "execution_count": 17,
   "metadata": {},
   "outputs": [],
   "source": [
    "def navigator_bfs(start, destination, connection_graph):\n",
    "    pathes = [start]\n",
    "    seen = set()\n",
    "    while pathes:\n",
    "        frontier = pathes.pop(0)\n",
    "        \n",
    "        if frontier in seen:\n",
    "            continue\n",
    "        successors = connection_graph[frontier]\n",
    "        print('standing at {} Looking forward {}'.format(frontier, successors))\n",
    "        pathes = pathes + successors\n",
    "        seen.add(frontier)"
   ]
  },
  {
   "cell_type": "code",
   "execution_count": 18,
   "metadata": {},
   "outputs": [],
   "source": [
    "def navigator_dfs(start, destination, connection_graph):\n",
    "    pathes = [start]\n",
    "    seen = set()\n",
    "    while pathes:\n",
    "        frontier = pathes.pop(0)\n",
    "        if frontier in seen:\n",
    "            continue\n",
    "        successor = connection_graph[frontier]\n",
    "        print('standing at {} Looking forward {}'.format(frontier, successor))\n",
    "        pathes = successor + pathes\n",
    "        seen.add(frontier)"
   ]
  },
  {
   "cell_type": "markdown",
   "metadata": {},
   "source": [
    "![](image/lesson01_dfs.png)"
   ]
  },
  {
   "cell_type": "code",
   "execution_count": 19,
   "metadata": {},
   "outputs": [],
   "source": [
    "connection_2 = {\n",
    "    0: [1, 5],\n",
    "    1: [0, 2],\n",
    "    2: [1, 3],\n",
    "    3: [2, 4],\n",
    "    4: [3],\n",
    "    5: [0, 6],\n",
    "    6: [5, 7],\n",
    "    7: [6]\n",
    "}"
   ]
  },
  {
   "cell_type": "code",
   "execution_count": 20,
   "metadata": {},
   "outputs": [
    {
     "data": {
      "image/png": "[encoded data removed]",
      "text/plain": [
       "<Figure size 432x288 with 1 Axes>"
      ]
     },
     "metadata": {},
     "output_type": "display_data"
    }
   ],
   "source": [
    "nx.draw(nx.Graph(connection_2))"
   ]
  },
  {
   "cell_type": "code",
   "execution_count": 21,
   "metadata": {},
   "outputs": [
    {
     "name": "stdout",
     "output_type": "stream",
     "text": [
      "standing at 0 Looking forward [1, 5]\n",
      "standing at 1 Looking forward [0, 2]\n",
      "standing at 5 Looking forward [0, 6]\n",
      "standing at 2 Looking forward [1, 3]\n",
      "standing at 6 Looking forward [5, 7]\n",
      "standing at 3 Looking forward [2, 4]\n",
      "standing at 7 Looking forward [6]\n",
      "standing at 4 Looking forward [3]\n"
     ]
    }
   ],
   "source": [
    "navigator_bfs(0, 7, connection_2)"
   ]
  },
  {
   "cell_type": "code",
   "execution_count": 22,
   "metadata": {},
   "outputs": [
    {
     "name": "stdout",
     "output_type": "stream",
     "text": [
      "standing at 0 Looking forward [1, 5]\n",
      "standing at 1 Looking forward [0, 2]\n",
      "standing at 2 Looking forward [1, 3]\n",
      "standing at 3 Looking forward [2, 4]\n",
      "standing at 4 Looking forward [3]\n",
      "standing at 5 Looking forward [0, 6]\n",
      "standing at 6 Looking forward [5, 7]\n",
      "standing at 7 Looking forward [6]\n"
     ]
    }
   ],
   "source": [
    "navigator_dfs(0, 7, connection_2)"
   ]
  },
  {
   "cell_type": "markdown",
   "metadata": {},
   "source": [
    "## Sentence Generation"
   ]
  },
  {
   "cell_type": "code",
   "execution_count": 23,
   "metadata": {},
   "outputs": [],
   "source": [
    "grammar = \"\"\"\n",
    "stmt = if block else block\n",
    "block = cmp; assignment\n",
    "assignment = XXX\n",
    "XXX\n",
    "\"\"\""
   ]
  },
  {
   "cell_type": "code",
   "execution_count": 24,
   "metadata": {},
   "outputs": [],
   "source": [
    "decimal_grammar = \"\"\"\n",
    "expression = operator op operator\n",
    "operator = num op num\n",
    "num = 0 | 1 | 2 | 3 | 4 | num\n",
    "op = + | - | * | /\n",
    "\"\"\""
   ]
  },
  {
   "cell_type": "code",
   "execution_count": 25,
   "metadata": {},
   "outputs": [],
   "source": [
    "grammar = \"\"\"\n",
    "sentence => noun_phrase verb_phrase\n",
    "noun_phrase => Article Adj* noun\n",
    "Adj* => null | Adj Adj*\n",
    "verb_phrase => verb noun_phrase\n",
    "Article => 一个 | 这个\n",
    "noun => 女人 | 篮球 | 桌子 | 小猫\n",
    "verb => 看着 | 坐在 | 听着 | 看见\n",
    "Adj => 蓝色的 | 好看的 | 小小的\n",
    "\"\"\""
   ]
  },
  {
   "cell_type": "markdown",
   "metadata": {},
   "source": [
    "### 1. 用语法随机生成"
   ]
  },
  {
   "cell_type": "code",
   "execution_count": 26,
   "metadata": {},
   "outputs": [],
   "source": [
    "import random"
   ]
  },
  {
   "cell_type": "code",
   "execution_count": 27,
   "metadata": {},
   "outputs": [],
   "source": [
    "def adj():\n",
    "    return random.choice(['蓝色的', '好看的', '小小的'])"
   ]
  },
  {
   "cell_type": "code",
   "execution_count": 28,
   "metadata": {},
   "outputs": [
    {
     "data": {
      "text/plain": [
       "'好看的'"
      ]
     },
     "execution_count": 28,
     "metadata": {},
     "output_type": "execute_result"
    }
   ],
   "source": [
    "adj()"
   ]
  },
  {
   "cell_type": "code",
   "execution_count": 29,
   "metadata": {},
   "outputs": [],
   "source": [
    "def noun():\n",
    "    return random.choice(\"女人 | 篮球 | 桌子 | 小猫\".split(\"|\"))"
   ]
  },
  {
   "cell_type": "code",
   "execution_count": 30,
   "metadata": {},
   "outputs": [
    {
     "data": {
      "text/plain": [
       "' 篮球 '"
      ]
     },
     "execution_count": 30,
     "metadata": {},
     "output_type": "execute_result"
    }
   ],
   "source": [
    "noun()"
   ]
  },
  {
   "cell_type": "markdown",
   "metadata": {},
   "source": [
    "直接用语法随机生成的问题：代码复用性差，grammar修改后代码无法继续使用。"
   ]
  },
  {
   "cell_type": "markdown",
   "metadata": {},
   "source": [
    "### 2. Data Driven的实现思路"
   ]
  },
  {
   "cell_type": "code",
   "execution_count": 31,
   "metadata": {},
   "outputs": [],
   "source": [
    "def parse_grammar(grammar_str, sep='=>'):\n",
    "    grammar = {}\n",
    "    for line in grammar_str.split('\\n'):\n",
    "        line = line.strip()\n",
    "        if not line:\n",
    "            continue\n",
    "        \n",
    "        target, rules = line.split(sep)\n",
    "        \n",
    "        grammar[target.strip()] = [r.split() for r in rules.split('|')]\n",
    "    return grammar"
   ]
  },
  {
   "cell_type": "code",
   "execution_count": 32,
   "metadata": {},
   "outputs": [],
   "source": [
    "g = parse_grammar(grammar)"
   ]
  },
  {
   "cell_type": "code",
   "execution_count": 33,
   "metadata": {},
   "outputs": [
    {
     "data": {
      "text/plain": [
       "{'sentence': [['noun_phrase', 'verb_phrase']],\n",
       " 'noun_phrase': [['Article', 'Adj*', 'noun']],\n",
       " 'Adj*': [['null'], ['Adj', 'Adj*']],\n",
       " 'verb_phrase': [['verb', 'noun_phrase']],\n",
       " 'Article': [['一个'], ['这个']],\n",
       " 'noun': [['女人'], ['篮球'], ['桌子'], ['小猫']],\n",
       " 'verb': [['看着'], ['坐在'], ['听着'], ['看见']],\n",
       " 'Adj': [['蓝色的'], ['好看的'], ['小小的']]}"
      ]
     },
     "execution_count": 33,
     "metadata": {},
     "output_type": "execute_result"
    }
   ],
   "source": [
    "g"
   ]
  },
  {
   "cell_type": "code",
   "execution_count": 34,
   "metadata": {},
   "outputs": [],
   "source": [
    "def  gene(grammar_parsed, target='sentence'):\n",
    "    if target not in grammar_parsed:\n",
    "        return target\n",
    "    rules = random.choice(grammar_parsed[target])\n",
    "    return ''.join(gene(grammar_parsed, r) for r in rules if r != 'null')"
   ]
  },
  {
   "cell_type": "code",
   "execution_count": 35,
   "metadata": {},
   "outputs": [
    {
     "data": {
      "text/plain": [
       "'一个小猫看见一个好看的小小的桌子'"
      ]
     },
     "execution_count": 35,
     "metadata": {},
     "output_type": "execute_result"
    }
   ],
   "source": [
    "gene(g)"
   ]
  },
  {
   "cell_type": "code",
   "execution_count": 36,
   "metadata": {},
   "outputs": [
    {
     "data": {
      "text/plain": [
       "'4*2+4+1'"
      ]
     },
     "execution_count": 36,
     "metadata": {},
     "output_type": "execute_result"
    }
   ],
   "source": [
    "gene(parse_grammar(decimal_grammar, sep='='), target='expression')"
   ]
  },
  {
   "cell_type": "code",
   "execution_count": 37,
   "metadata": {},
   "outputs": [
    {
     "name": "stdout",
     "output_type": "stream",
     "text": [
      "0+2*4*1\n",
      "3/2-3/2\n",
      "3*0+1/4\n",
      "1-4/1-1\n",
      "0*1/0/1\n",
      "3+3*0-2\n",
      "3-2*3+4\n",
      "1+2-3+1\n",
      "4+4+2+2\n",
      "4*0+4+3\n",
      "2/1+4/0\n",
      "4+1+2+1\n",
      "4-0-0*2\n",
      "0+3/4*0\n",
      "2+1-2*4\n",
      "3*2+1*2\n",
      "3-0/4*0\n",
      "0-4-4*3\n",
      "3/3+2/4\n",
      "2*3+3/2\n"
     ]
    }
   ],
   "source": [
    "for i in range(20):\n",
    "    print(gene(parse_grammar(decimal_grammar, sep='='), target='expression'))"
   ]
  },
  {
   "cell_type": "markdown",
   "metadata": {},
   "source": [
    "DataDriven的思路总结：注重对问题的建模，模型能够处理未知的输入。"
   ]
  }
 ],
 "metadata": {
  "kernelspec": {
   "display_name": "Python 3",
   "language": "python",
   "name": "python3"
  },
  "language_info": {
   "codemirror_mode": {
    "name": "ipython",
    "version": 3
   },
   "file_extension": ".py",
   "mimetype": "text/x-python",
   "name": "python",
   "nbconvert_exporter": "python",
   "pygments_lexer": "ipython3",
   "version": "3.7.2"
  }
 },
 "nbformat": 4,
 "nbformat_minor": 2
}
