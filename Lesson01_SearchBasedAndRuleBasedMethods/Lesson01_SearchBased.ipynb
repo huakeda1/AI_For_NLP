{
 "cells": [
  {
   "cell_type": "markdown",
   "metadata": {},
   "source": [
    "## AI Paradigm \n",
    "+ Search Policy Based: 简单的搜索和决策问题使用BFS。\n",
    "+ Rule Based, from Rules to Data Driven\n",
    "+ Mathematical or Analytic Based\n",
    "+ Probability Based\n",
    "+ Machine Learning(Deep Learning) Based"
   ]
  },
  {
   "cell_type": "markdown",
   "metadata": {},
   "source": [
    "##  1. Search Policy Based\n",
    "+ Map Search 地图搜索问题\n",
    "\n",
    "### 1.1 地图定义"
   ]
  },
  {
   "cell_type": "code",
   "execution_count": 12,
   "metadata": {},
   "outputs": [],
   "source": [
    "# 定义9个城市和城市之间的航班关系\n",
    "BEIJING, CHANGCHUN, URUMQI, WUHAN, GUANGZHOU, SHENZHEN, BANGKOK, SHANGHAI, NEWYORK =\"\"\"\n",
    "BEIJING CHUNGCHUN URUMQI WUHAN GUANGZHOU SHENZHEN BANGKOK SHANGHAI NEWYORK\n",
    "\"\"\".split()ss"
   ]
  },
  {
   "cell_type": "markdown",
   "metadata": {},
   "source": [
    "![]()"
   ]
  },
  {
   "cell_type": "markdown",
   "metadata": {},
   "source": [
    "![Map](image/lesson01_map.png)"
   ]
  },
  {
   "cell_type": "code",
   "execution_count": 2,
   "metadata": {},
   "outputs": [],
   "source": [
    "# 定义连接关系\n",
    "connection = {\n",
    "    CHANGCHUN: [BEIJING],\n",
    "    URUMQI: [BEIJING],\n",
    "    BEIJING: [URUMQI, CHANGCHUN, WUHAN, SHENZHEN, NEWYORK],\n",
    "    NEWYORK: [BEIJING, SHANGHAI],\n",
    "    SHANGHAI: [NEWYORK, WUHAN],\n",
    "    WUHAN: [SHANGHAI, BEIJING, GUANGZHOU],\n",
    "    GUANGZHOU: [WUHAN, BANGKOK],\n",
    "    SHENZHEN: [WUHAN, BANGKOK],\n",
    "    BANGKOK: [SHENZHEN, GUANGZHOU]\n",
    "}"
   ]
  },
  {
   "cell_type": "markdown",
   "metadata": {},
   "source": [
    "### 1.2 搜索算法初始版本（BFS）"
   ]
  },
  {
   "cell_type": "code",
   "execution_count": 3,
   "metadata": {},
   "outputs": [],
   "source": [
    "def navigator(start, destination, connection_graph):\n",
    "    # 当前看到的点\n",
    "    pathes = [start, ]\n",
    "    seen = set()\n",
    "    while pathes:\n",
    "        # 取第一个点\n",
    "        frontier = pathes.pop()\n",
    "        if frontier in seen:\n",
    "            continue\n",
    "        print('I am standing at:{}'.format(frontier))\n",
    "        # 获取当前点连接的点\n",
    "        successors = connection_graph[frontier]\n",
    "        # 判断重点是否在路径中\n",
    "        for s in successors:\n",
    "            print('\\t-----I am look forward:{}'.format(s))\n",
    "            if s == destination: \n",
    "                return pathes\n",
    "        # 将所有候机节点放入待查找路径中\n",
    "        pathes += successors\n",
    "        # 存储已经走过的点\n",
    "        seen.add(frontier)"
   ]
  },
  {
   "cell_type": "code",
   "execution_count": 4,
   "metadata": {},
   "outputs": [
    {
     "name": "stdout",
     "output_type": "stream",
     "text": [
      "I am standing at:CHUNGCHUN\n",
      "\t-----I am look forward:BEIJING\n",
      "I am standing at:BEIJING\n",
      "\t-----I am look forward:URUMQI\n",
      "\t-----I am look forward:CHUNGCHUN\n",
      "\t-----I am look forward:WUHAN\n",
      "\t-----I am look forward:SHENZHEN\n",
      "\t-----I am look forward:NEWYORK\n",
      "I am standing at:NEWYORK\n",
      "\t-----I am look forward:BEIJING\n",
      "\t-----I am look forward:SHANGHAI\n",
      "I am standing at:SHANGHAI\n",
      "\t-----I am look forward:NEWYORK\n",
      "\t-----I am look forward:WUHAN\n",
      "I am standing at:WUHAN\n",
      "\t-----I am look forward:SHANGHAI\n",
      "\t-----I am look forward:BEIJING\n",
      "\t-----I am look forward:GUANGZHOU\n",
      "I am standing at:GUANGZHOU\n",
      "\t-----I am look forward:WUHAN\n",
      "\t-----I am look forward:BANGKOK\n"
     ]
    },
    {
     "data": {
      "text/plain": [
       "['URUMQI',\n",
       " 'CHUNGCHUN',\n",
       " 'WUHAN',\n",
       " 'SHENZHEN',\n",
       " 'BEIJING',\n",
       " 'NEWYORK',\n",
       " 'SHANGHAI',\n",
       " 'BEIJING']"
      ]
     },
     "execution_count": 4,
     "metadata": {},
     "output_type": "execute_result"
    }
   ],
   "source": [
    "navigator(CHANGCHUN, BANGKOK, connection)"
   ]
  },
  {
   "cell_type": "markdown",
   "metadata": {},
   "source": [
    "+ **CHUANGCHUN -> BANGKOK 路线**： CHUANGCHUN -> BEIJING -> NEWYORK -> SHANGHAI -> WUHAN -> GUANGZHOU -> BANKOK"
   ]
  },
  {
   "cell_type": "markdown",
   "metadata": {},
   "source": [
    "### 1.3 返回搜索结果路径"
   ]
  },
  {
   "cell_type": "code",
   "execution_count": 5,
   "metadata": {},
   "outputs": [],
   "source": [
    "def navigator2(start, destination, connection_graph):\n",
    "    pathes = [[start]]\n",
    "    seen = set()\n",
    "    while pathes:\n",
    "        path = pathes.pop()\n",
    "        frontier = path[-1]\n",
    "        if frontier in seen:\n",
    "            continue\n",
    "        successors = connection_graph[frontier]\n",
    "        for s in successors:\n",
    "            if s == destination: \n",
    "                path.append(s)\n",
    "                return path\n",
    "            else:\n",
    "                pathes.append(path+[s])\n",
    "        seen.add(frontier)"
   ]
  },
  {
   "cell_type": "code",
   "execution_count": 6,
   "metadata": {},
   "outputs": [
    {
     "data": {
      "text/plain": [
       "['URUMQI', 'BEIJING', 'NEWYORK', 'SHANGHAI', 'WUHAN', 'GUANGZHOU', 'BANGKOK']"
      ]
     },
     "execution_count": 6,
     "metadata": {},
     "output_type": "execute_result"
    }
   ],
   "source": [
    "navigator2(URUMQI, BANGKOK, connection)"
   ]
  },
  {
   "cell_type": "code",
   "execution_count": 7,
   "metadata": {},
   "outputs": [],
   "source": [
    "def draw_route(routes):\n",
    "    print(\"✈️->\".join(routes))"
   ]
  },
  {
   "cell_type": "code",
   "execution_count": 8,
   "metadata": {},
   "outputs": [
    {
     "name": "stdout",
     "output_type": "stream",
     "text": [
      "URUMQI✈️->BEIJING✈️->NEWYORK✈️->SHANGHAI✈️->WUHAN✈️->GUANGZHOU✈️->BANGKOK\n"
     ]
    }
   ],
   "source": [
    "draw_route(navigator2(URUMQI, BANGKOK, connection))"
   ]
  },
  {
   "cell_type": "markdown",
   "metadata": {},
   "source": [
    "### 1.4 返回最短路径"
   ]
  },
  {
   "cell_type": "code",
   "execution_count": 13,
   "metadata": {},
   "outputs": [],
   "source": [
    "def navigator3(start, destination, connection_graph):\n",
    "    pathes = [[start]]\n",
    "    seen = set()\n",
    "    while pathes:\n",
    "        path = pathes.pop(0)\n",
    "        frontier = path[-1]\n",
    "        \n",
    "        if frontier in seen:\n",
    "            continue\n",
    "        successors = connection_graph[frontier]\n",
    "        \n",
    "        for s in successors:\n",
    "            if s == destination: \n",
    "                path.append(s)\n",
    "                return path\n",
    "            else:\n",
    "                pathes.append(path+[s])\n",
    "        \n",
    "        # 当前路径长度排序\n",
    "        pathes = sorted(pathes, key=len)\n",
    "        seen.add(frontier)"
   ]
  },
  {
   "cell_type": "code",
   "execution_count": 14,
   "metadata": {},
   "outputs": [
    {
     "name": "stdout",
     "output_type": "stream",
     "text": [
      "URUMQI✈️->BEIJING✈️->SHENZHEN✈️->BANGKOK\n"
     ]
    }
   ],
   "source": [
    "draw_route(navigator3(URUMQI, BANGKOK, connection))"
   ]
  },
  {
   "cell_type": "markdown",
   "metadata": {},
   "source": [
    "### 1.5 BFS v.s. DFS "
   ]
  },
  {
   "cell_type": "code",
   "execution_count": 23,
   "metadata": {},
   "outputs": [],
   "source": [
    "def navigator_bfs(start, destination, connection_graph):\n",
    "    pathes = [start]\n",
    "    seen = set()\n",
    "    while pathes:\n",
    "        frontier = pathes.pop(0)\n",
    "        \n",
    "        if frontier in seen:\n",
    "            continue\n",
    "        successors = connection_graph[frontier]\n",
    "        print('standing at {} Looking forward {}'.format(frontier, successors))\n",
    "        \n",
    "        pathes = pathes + successors\n",
    "        seen.add(frontier)"
   ]
  },
  {
   "cell_type": "code",
   "execution_count": 24,
   "metadata": {},
   "outputs": [],
   "source": [
    "def navigator_dfs(start, destination, connection_graph):\n",
    "    pathes = [start]\n",
    "    seen = set()\n",
    "    while pathes:\n",
    "        frontier = pathes.pop(0)\n",
    "        \n",
    "        if frontier in seen:\n",
    "            continue\n",
    "        successor = connection_graph[frontier]\n",
    "        print('standing at {} Looking forward {}'.format(frontier, successor))\n",
    "        \n",
    "        # 区别\n",
    "        pathes = successor + pathes\n",
    "        seen.add(frontier)"
   ]
  },
  {
   "cell_type": "markdown",
   "metadata": {},
   "source": [
    "![](image/lesson01_dfs.png)"
   ]
  },
  {
   "cell_type": "code",
   "execution_count": 19,
   "metadata": {},
   "outputs": [],
   "source": [
    "connection_2 = {\n",
    "    0: [1, 5],\n",
    "    1: [0, 2],\n",
    "    2: [1, 3],\n",
    "    3: [2, 4],\n",
    "    4: [3],\n",
    "    5: [0, 6],\n",
    "    6: [5, 7],\n",
    "    7: [6]\n",
    "}"
   ]
  },
  {
   "cell_type": "code",
   "execution_count": 20,
   "metadata": {},
   "outputs": [
    {
     "name": "stdout",
     "output_type": "stream",
     "text": [
      "standing at 0 Looking forward [1, 5]\n",
      "standing at 1 Looking forward [0, 2]\n",
      "standing at 5 Looking forward [0, 6]\n",
      "standing at 2 Looking forward [1, 3]\n",
      "standing at 6 Looking forward [5, 7]\n",
      "standing at 3 Looking forward [2, 4]\n",
      "standing at 7 Looking forward [6]\n",
      "standing at 4 Looking forward [3]\n"
     ]
    }
   ],
   "source": [
    "# BFS\n",
    "navigator_bfs(0, 7, connection_2)"
   ]
  },
  {
   "cell_type": "code",
   "execution_count": 21,
   "metadata": {},
   "outputs": [
    {
     "name": "stdout",
     "output_type": "stream",
     "text": [
      "standing at 0 Looking forward [1, 5]\n",
      "standing at 1 Looking forward [0, 2]\n",
      "standing at 2 Looking forward [1, 3]\n",
      "standing at 3 Looking forward [2, 4]\n",
      "standing at 4 Looking forward [3]\n",
      "standing at 5 Looking forward [0, 6]\n",
      "standing at 6 Looking forward [5, 7]\n",
      "standing at 7 Looking forward [6]\n"
     ]
    }
   ],
   "source": [
    "# DFS\n",
    "navigator_dfs(0, 7, connection_2)"
   ]
  }
 ],
 "metadata": {
  "kernelspec": {
   "display_name": "Python 3",
   "language": "python",
   "name": "python3"
  },
  "language_info": {
   "codemirror_mode": {
    "name": "ipython",
    "version": 3
   },
   "file_extension": ".py",
   "mimetype": "text/x-python",
   "name": "python",
   "nbconvert_exporter": "python",
   "pygments_lexer": "ipython3",
   "version": "3.6.8"
  }
 },
 "nbformat": 4,
 "nbformat_minor": 2
}
