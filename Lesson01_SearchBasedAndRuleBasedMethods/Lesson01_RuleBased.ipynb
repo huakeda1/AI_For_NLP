{
 "cells": [
  {
   "cell_type": "markdown",
   "metadata": {},
   "source": [
    "# Rule Based 实践\n",
    "给定语法规则，生成句子。"
   ]
  },
  {
   "cell_type": "code",
   "execution_count": 1,
   "metadata": {},
   "outputs": [],
   "source": [
    "import random"
   ]
  },
  {
   "cell_type": "code",
   "execution_count": 2,
   "metadata": {},
   "outputs": [],
   "source": [
    "# 定义句子的语法规则\n",
    "grammer = \"\"\"\n",
    "sentence => noun_phrase verb_phrase\n",
    "noun_phrase => Article Adj* noun\n",
    "Adj* => null | Adj Adj*\n",
    "verb_phrase => verb noun_phrase\n",
    "Article => 一个 | 这个\n",
    "noun => 女人 | 篮球 | 桌子 | 小猫\n",
    "verb => 看着 | 坐在 | 听着 | 看见\n",
    "Adj => 蓝色的 | 好看的 | 小小的\n",
    "\"\"\""
   ]
  },
  {
   "cell_type": "markdown",
   "metadata": {},
   "source": [
    "## 1. 笨方法\n",
    "- 直接定义很多方法，随机生成；\n",
    "- 代码复用性差，grammar修改后代码无法继续使用。"
   ]
  },
  {
   "cell_type": "code",
   "execution_count": 3,
   "metadata": {},
   "outputs": [],
   "source": [
    "def adj():\n",
    "    return random.choice([\"蓝色的\", \"好看的\", \"小小的\"])"
   ]
  },
  {
   "cell_type": "code",
   "execution_count": 4,
   "metadata": {},
   "outputs": [
    {
     "data": {
      "text/plain": [
       "'好看的'"
      ]
     },
     "execution_count": 4,
     "metadata": {},
     "output_type": "execute_result"
    }
   ],
   "source": [
    "adj()"
   ]
  },
  {
   "cell_type": "code",
   "execution_count": 5,
   "metadata": {},
   "outputs": [],
   "source": [
    "def noun():\n",
    "    return random.choice([\"女人\", \"篮球\", \"桌子\", \"小猫\"])"
   ]
  },
  {
   "cell_type": "code",
   "execution_count": 6,
   "metadata": {},
   "outputs": [
    {
     "data": {
      "text/plain": [
       "'女人'"
      ]
     },
     "execution_count": 6,
     "metadata": {},
     "output_type": "execute_result"
    }
   ],
   "source": [
    "noun()"
   ]
  },
  {
   "cell_type": "markdown",
   "metadata": {},
   "source": [
    "def article(): ...\n",
    "def verb(): ..."
   ]
  },
  {
   "cell_type": "markdown",
   "metadata": {},
   "source": [
    "如果改变语法规则，需要重新写程序，eg 改成decimal_grammer;    "
   ]
  },
  {
   "cell_type": "code",
   "execution_count": 8,
   "metadata": {},
   "outputs": [],
   "source": [
    "decimal_grammer = \"\"\"\n",
    "operator = num op num\n",
    "num = 0 | 1 | 2 | 3 | 4 | num num\n",
    "op = + | - | * | /\n",
    "\"\"\""
   ]
  },
  {
   "cell_type": "markdown",
   "metadata": {},
   "source": [
    "## 2. 优化"
   ]
  },
  {
   "cell_type": "markdown",
   "metadata": {},
   "source": [
    "generate(\"verb_pharase\") = generate(\"verb\") + generate(\"noun_phrase\")"
   ]
  },
  {
   "cell_type": "code",
   "execution_count": 9,
   "metadata": {},
   "outputs": [],
   "source": [
    "# 生成语法字典\n",
    "def parse_grammer(grammer_str, sep='=>'):\n",
    "    grammer = {}\n",
    "    for line in grammer_str.split('\\n'):\n",
    "        line = line.strip()\n",
    "        if not line:\n",
    "            continue\n",
    "        target, rules = line.split(sep)\n",
    "        grammer[target.strip()] = [r.split() for r in rules.split('|')]\n",
    "    return grammer"
   ]
  },
  {
   "cell_type": "code",
   "execution_count": 10,
   "metadata": {},
   "outputs": [
    {
     "data": {
      "text/plain": [
       "{'sentence': [['noun_phrase', 'verb_phrase']],\n",
       " 'noun_phrase': [['Article', 'Adj*', 'noun']],\n",
       " 'Adj*': [['null'], ['Adj', 'Adj*']],\n",
       " 'verb_phrase': [['verb', 'noun_phrase']],\n",
       " 'Article': [['一个'], ['这个']],\n",
       " 'noun': [['女人'], ['篮球'], ['桌子'], ['小猫']],\n",
       " 'verb': [['看着'], ['坐在'], ['听着'], ['看见']],\n",
       " 'Adj': [['蓝色的'], ['好看的'], ['小小的']]}"
      ]
     },
     "execution_count": 10,
     "metadata": {},
     "output_type": "execute_result"
    }
   ],
   "source": [
    "parse_grammer(grammer)"
   ]
  },
  {
   "cell_type": "code",
   "execution_count": 11,
   "metadata": {},
   "outputs": [],
   "source": [
    "g = parse_grammer(grammer)"
   ]
  },
  {
   "cell_type": "code",
   "execution_count": 12,
   "metadata": {},
   "outputs": [],
   "source": [
    "def gene(grammer_parsed, target='sentence'):\n",
    "    # 递归终止条件\n",
    "    if target not in grammer_parsed:\n",
    "        return target\n",
    "    \n",
    "    rules = random.choice(grammer_parsed[target])\n",
    "    return ''.join(gene(grammer_parsed, target=r) for r in rules if r != 'null')"
   ]
  },
  {
   "cell_type": "code",
   "execution_count": 24,
   "metadata": {},
   "outputs": [
    {
     "data": {
      "text/plain": [
       "'这个女人坐在这个篮球'"
      ]
     },
     "execution_count": 24,
     "metadata": {},
     "output_type": "execute_result"
    }
   ],
   "source": [
    "gene(g)"
   ]
  },
  {
   "cell_type": "code",
   "execution_count": 27,
   "metadata": {},
   "outputs": [
    {
     "data": {
      "text/plain": [
       "'一个小小的女人坐在一个蓝色的小小的好看的小小的好看的蓝色的小猫'"
      ]
     },
     "execution_count": 27,
     "metadata": {},
     "output_type": "execute_result"
    }
   ],
   "source": [
    "gene(g)"
   ]
  },
  {
   "cell_type": "markdown",
   "metadata": {},
   "source": [
    "### 生成加减乘除运算"
   ]
  },
  {
   "cell_type": "code",
   "execution_count": 55,
   "metadata": {},
   "outputs": [],
   "source": [
    "decimal_grammer = \"\"\"\n",
    "operator = num op num\n",
    "num = 0 | 1 | 2 | 3 | 4 | num num\n",
    "op = + | - | * | /\n",
    "\"\"\""
   ]
  },
  {
   "cell_type": "code",
   "execution_count": 56,
   "metadata": {},
   "outputs": [
    {
     "data": {
      "text/plain": [
       "'3+42'"
      ]
     },
     "execution_count": 56,
     "metadata": {},
     "output_type": "execute_result"
    }
   ],
   "source": [
    "gene(parse_grammer(decimal_grammer, sep='='), target='operator')"
   ]
  },
  {
   "cell_type": "code",
   "execution_count": 57,
   "metadata": {},
   "outputs": [],
   "source": [
    "decimal_grammer2 = \"\"\"\n",
    "expression = operator op operator\n",
    "operator = num op num\n",
    "num = 0 | 1 | 2 | 3 | 4 | num num\n",
    "op = + | - | * | /\n",
    "\"\"\""
   ]
  },
  {
   "cell_type": "code",
   "execution_count": 58,
   "metadata": {},
   "outputs": [
    {
     "data": {
      "text/plain": [
       "'4+2/3*2'"
      ]
     },
     "execution_count": 58,
     "metadata": {},
     "output_type": "execute_result"
    }
   ],
   "source": [
    "gene(parse_grammer(decimal_grammer2, sep='='), target='expression')"
   ]
  },
  {
   "cell_type": "code",
   "execution_count": 62,
   "metadata": {},
   "outputs": [
    {
     "name": "stdout",
     "output_type": "stream",
     "text": [
      "4*0*4/3\n",
      "0/2*0+3\n",
      "3*4+1/0\n",
      "1+30-4-3\n",
      "12*1-2/4\n",
      "2+0*1-34\n",
      "2-2-1220*3\n",
      "2/1/4-3\n",
      "0*4/1-2\n",
      "0+1*2-2\n",
      "01+2*4+1\n",
      "4*223-32+3\n",
      "2-2*0+0\n",
      "33*1+3+0142\n",
      "4/2+4+2\n",
      "0-1-12-30\n",
      "4*4/1*1\n",
      "1*2*3+2\n",
      "3/2-4+4\n",
      "3*0*4-4\n"
     ]
    }
   ],
   "source": [
    "for i in range(20):\n",
    "    print(gene(parse_grammer(decimal_grammer2, sep='='), target='expression'))"
   ]
  },
  {
   "cell_type": "markdown",
   "metadata": {},
   "source": [
    "## 3.Conclusion\n",
    "+ Data Driven的思维过程：注重对问题的建模和抽象，模型能够处理未知的输入\n",
    "+ 遇到新问题后可以直接复用代码(这里是说复用模型)，不需要重写代码"
   ]
  }
 ],
 "metadata": {
  "kernelspec": {
   "display_name": "Python 3",
   "language": "python",
   "name": "python3"
  },
  "language_info": {
   "codemirror_mode": {
    "name": "ipython",
    "version": 3
   },
   "file_extension": ".py",
   "mimetype": "text/x-python",
   "name": "python",
   "nbconvert_exporter": "python",
   "pygments_lexer": "ipython3",
   "version": "3.6.8"
  }
 },
 "nbformat": 4,
 "nbformat_minor": 2
}
