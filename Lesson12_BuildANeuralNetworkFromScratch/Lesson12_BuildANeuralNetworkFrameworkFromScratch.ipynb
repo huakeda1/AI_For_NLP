{
 "cells": [
  {
   "cell_type": "markdown",
   "metadata": {},
   "source": [
    "## 使用python 和 numpy 从0到1构建一个神经网络框架 MiniTensorFlow"
   ]
  },
  {
   "cell_type": "markdown",
   "metadata": {},
   "source": [
    "\n",
    "> Node（网络节点结构）：\n",
    "   + forward: *Function*, how to calculate the inputs\n",
    "   + backward:*Function*, how to get the gradients when backpropagation\n",
    "   + gradients: *Mapper*, the gradient map this node of its inputs node\n",
    "   + inputs: *List*, the input nodes of the node\n",
    "   + outputs: *List*, the output node of this node"
   ]
  },
  {
   "cell_type": "code",
   "execution_count": 1,
   "metadata": {},
   "outputs": [],
   "source": [
    "import numpy as np"
   ]
  },
  {
   "cell_type": "code",
   "execution_count": 67,
   "metadata": {},
   "outputs": [],
   "source": [
    "class Node:\n",
    "    \"\"\"\n",
    "    Each node in the neural network will have these attributes and methods\n",
    "    \"\"\"\n",
    "    def __init__(self, inputs=[]):\n",
    "        # inputs和outputs都是Node\n",
    "        self.inputs = inputs\n",
    "        self.outputs = []\n",
    "        \n",
    "        # inputs的节点的输出节点为当前节点\n",
    "        for n in self.inputs:\n",
    "            n.outputs.append(self)\n",
    "        \n",
    "        # 节点的输出值 如 wx+b的值\n",
    "        self.value = None\n",
    "        \n",
    "        # 相对于所有输出节点的梯度\n",
    "        self.gradients = {\n",
    "            # if is wx + b, this will put the\n",
    "            # w: x\n",
    "            # x: w\n",
    "            # b: 1\n",
    "        }\n",
    "        \n",
    "    \n",
    "    def forward(self):\n",
    "        \"\"\"\n",
    "        Forward propagation \n",
    "        compute the output value based on the input nodes and store the value\n",
    "        into self.value\n",
    "        \"\"\"\n",
    "        raise NotImplemented\n",
    "    \n",
    "    def backward(self):\n",
    "        \"\"\"\n",
    "        Back Propagation\n",
    "        compute the gradient of each input node and store the value\n",
    "        into self.gradients\n",
    "        \"\"\"\n",
    "        raise NotImplemented"
   ]
  },
  {
   "cell_type": "code",
   "execution_count": 98,
   "metadata": {},
   "outputs": [],
   "source": [
    "class Input(Node):\n",
    "    def __init__(self, name=''):\n",
    "        \"\"\"\n",
    "        An Input node has no inbound nodes.\n",
    "        So no need to pass anything to the Node instantiator.\n",
    "        \"\"\"\n",
    "        Node.__init__(self, inputs=[])\n",
    "        self.name = name\n",
    "    \n",
    "    def forward(self, value=None):\n",
    "        \"\"\"\n",
    "        Only Input node is the node where the value may be passed as argument to forward().\n",
    "        All other node implementations should get the value of the previous node from self.inbound_nodes.\n",
    "        (只有Input类型的节点调用forward时需要传值，其他类型的节点需要从前任节点中获取输入值)\n",
    "        Example：\n",
    "            val0： self.inbound_nodes[0].value\n",
    "            节点的输出值就是输入参数\n",
    "        \"\"\"\n",
    "        if value is not None:\n",
    "            print('>>>> here')\n",
    "            self.value = value\n",
    "    \n",
    "    def backward(self):\n",
    "        self.gradients = {self: 0}\n",
    "        \n",
    "        for n in self.outputs:\n",
    "            # 输出节点的梯度 * 当前节点的梯度\n",
    "            grad_cost = n.gradients[self]\n",
    "            self.gradients[self] = grad_cost * 1\n",
    "    \n",
    "    def __repr__(self):\n",
    "        return 'Input Node: {}'.format(self.name)"
   ]
  },
  {
   "cell_type": "code",
   "execution_count": 4,
   "metadata": {},
   "outputs": [],
   "source": [
    "class Add(Node):\n",
    "    def __init__(self, *nodes):\n",
    "        Node.__init__(self, nodes)\n",
    "    \n",
    "    def calculate(self):\n",
    "        \"\"\"\n",
    "        输出值是所有输入节点的value和\n",
    "        \"\"\"\n",
    "        self.value = sum(map(lambda n: n.value, self.inputs)) "
   ]
  },
  {
   "cell_type": "code",
   "execution_count": 106,
   "metadata": {},
   "outputs": [],
   "source": [
    "class Linear(Node):\n",
    "    def __init__(self, nodes, weights, bias):\n",
    "        Node.__init__(self, [nodes, weights, bias])\n",
    "        \n",
    "    def forward(self):\n",
    "        inputs = self.inputs[0].value\n",
    "        weights = self.inputs[1].value\n",
    "        bias = self.inputs[2].value\n",
    "        self.value = np.dot(inputs, weights) + bias\n",
    "    \n",
    "    def backward(self):\n",
    "        self.gradients = {n: np.zeros_like(n.value) for n in self.inputs}\n",
    "        \n",
    "        for n in self.outputs:\n",
    "            grad_cost = n.gradients[self]\n",
    "            self.gradients[self.inputs[0]] = np.dot(grad_cost, self.inputs[1].value.T)\n",
    "            self.gradients[self.inputs[1]] = np.dot(self.inputs[0].value.T, grad_cost)\n",
    "            self.gradients[self.inputs[2]] = np.sum(grad_cost, axis=0, keepdims=False)"
   ]
  },
  {
   "cell_type": "code",
   "execution_count": 6,
   "metadata": {},
   "outputs": [],
   "source": [
    "class Sigmoid(Node):\n",
    "    def __init__(self, node):\n",
    "        Node.__init__(self, [node])\n",
    "        \n",
    "    def _sigmoid(self, x):\n",
    "        return 1. / (1 + np.exp(-1 * x))\n",
    "    \n",
    "    def forward(self):\n",
    "        self.x = self.inputs[0].value\n",
    "        self.value = self._sigmoid(self.x)\n",
    "    \n",
    "    def backward(self):\n",
    "        self.partial = self._sigmoid(self.x) * (1 - self._sigmoid(self.x))\n",
    "        self.gradients = {n: np.zeros_like(n.value) for n in self.inputs}\n",
    "        \n",
    "        for n in self.outputs:\n",
    "            grad_cost = n.gradients[self]\n",
    "            self.gradients[self.inputs[0]] = grad_cost * self.partial"
   ]
  },
  {
   "cell_type": "code",
   "execution_count": 7,
   "metadata": {},
   "outputs": [],
   "source": [
    "class MSE(Node):\n",
    "    def __init__(self, y_true, y_hat):\n",
    "        Node.__init__(self, [y_true, y_hat])\n",
    "    \n",
    "    def forward(self):\n",
    "        y_true = self.inputs[0].value.reshape(-1, 1)\n",
    "        y_hat = self.inputs[1].value.reshape(-1, 1)\n",
    "        assert(y_true.shape == y_hat.shape)\n",
    "        \n",
    "        self.diff = y_true - y_hat\n",
    "        self.value = np.mean(self.diff ** 2)\n",
    "    \n",
    "    \n",
    "    def backward(self):\n",
    "        self.m = self.inputs[0].value.shape[0]\n",
    "        self.gradients[self.inputs[0]] = (2 / self.m) * self.diff\n",
    "        self.gradients[self.inputs[1]] = -1 * (2 / self.m) * self.diff"
   ]
  },
  {
   "cell_type": "code",
   "execution_count": 95,
   "metadata": {},
   "outputs": [],
   "source": [
    "def forward_and_backward(toplogical_sorted_graph):\n",
    "    for n in toplogical_sorted_graph:\n",
    "        n.forward()\n",
    "    \n",
    "    for n in toplogical_sorted_graph[::-1]:\n",
    "        n.backward()"
   ]
  },
  {
   "cell_type": "code",
   "execution_count": 9,
   "metadata": {},
   "outputs": [],
   "source": [
    "def toplogical_sort(feed_dict):\n",
    "    \"\"\"\n",
    "    Sort generic nodes in topological order using Kahn's Algorithm.\n",
    "    (网络节点拓扑排序)\n",
    "    \n",
    "    feed_dict: A dictionary where the key is a 'Input' node and the value is the respective value feed to that node.\n",
    "    Returns a list of sorted nodes.\n",
    "    \"\"\"\n",
    "    input_nodes = [n for n in feed_dict.keys()]\n",
    "    G = {}\n",
    "    nodes = [n for n in input_nodes]\n",
    "    \n",
    "    while len(nodes) > 0:\n",
    "        n = nodes.pop(0)\n",
    "        if n not in G:\n",
    "            G[n] = {'in': set(), 'out': set()}\n",
    "        \n",
    "        for m in n.outputs:\n",
    "            if m not in G:\n",
    "                G[m] = {'in': set(), 'out': set()}\n",
    "            G[n]['out'].add(m)\n",
    "            G[m]['in'].add(n)\n",
    "            nodes.append(m)\n",
    "    \n",
    "    L = []\n",
    "    S = set(input_nodes)\n",
    "    while len(S) > 0:\n",
    "        n = S.pop()\n",
    "        if isinstance(n, Input):\n",
    "            n.value = feed_dict[n]\n",
    "            \n",
    "        L.append(n)\n",
    "        for m in n.outputs:\n",
    "            G[n]['out'].remove(m)\n",
    "            G[m]['in'].remove(n)\n",
    "            \n",
    "            # 入度为 0的节点\n",
    "            if len(G[m]['in']) == 0:\n",
    "                S.add(m)\n",
    "    return L"
   ]
  },
  {
   "cell_type": "code",
   "execution_count": 20,
   "metadata": {},
   "outputs": [],
   "source": [
    "def sgd_update(trainable_nodes, learning_rate=1e-3):\n",
    "    for node in trainable_nodes:\n",
    "        node.value += -1 * learning_rate * node.gradients[node]"
   ]
  },
  {
   "cell_type": "markdown",
   "metadata": {},
   "source": [
    "## TEST"
   ]
  },
  {
   "cell_type": "code",
   "execution_count": 73,
   "metadata": {},
   "outputs": [],
   "source": [
    "from sklearn.datasets import load_boston\n",
    "from sklearn.utils import resample, shuffle"
   ]
  },
  {
   "cell_type": "code",
   "execution_count": 74,
   "metadata": {},
   "outputs": [],
   "source": [
    "data = load_boston()\n",
    "X_ = data['data']\n",
    "y_ = data['target']"
   ]
  },
  {
   "cell_type": "code",
   "execution_count": 75,
   "metadata": {},
   "outputs": [
    {
     "data": {
      "text/plain": [
       "((506, 13), (506,))"
      ]
     },
     "execution_count": 75,
     "metadata": {},
     "output_type": "execute_result"
    }
   ],
   "source": [
    "X_.shape, y_.shape"
   ]
  },
  {
   "cell_type": "code",
   "execution_count": 77,
   "metadata": {},
   "outputs": [],
   "source": [
    "# Normalize\n",
    "X_ = (X_ - np.mean(X_, axis=0)) / np.std(X_, axis=0)"
   ]
  },
  {
   "cell_type": "code",
   "execution_count": 89,
   "metadata": {},
   "outputs": [],
   "source": [
    "# Build nodes\n",
    "X, y = Input(name='X'), Input(name='y')\n",
    "W1, b1 = Input(name='W1'), Input(name='b1')\n",
    "W2, b2 = Input(name='W2'), Input(name='b2')"
   ]
  },
  {
   "cell_type": "code",
   "execution_count": 105,
   "metadata": {},
   "outputs": [
    {
     "name": "stdout",
     "output_type": "stream",
     "text": [
      "3\n",
      "3\n"
     ]
    }
   ],
   "source": [
    "# Build Neural Network\n",
    "linear_output = Linear(X, W1, b1)\n",
    "sigmoid_output = Sigmoid(linear_output)\n",
    "yhat = Linear(sigmoid_output, W2, b2)\n",
    "loss = MSE(y, yhat)"
   ]
  },
  {
   "cell_type": "code",
   "execution_count": 91,
   "metadata": {},
   "outputs": [],
   "source": [
    "# 初始化参数\n",
    "n_features = X_.shape[1]\n",
    "n_hidden = 10\n",
    "W1_, b1_= np.random.randn(n_features, n_hidden), np.zeros(n_hidden)\n",
    "W2_, b2_ = np.random.randn(n_hidden, 1), np.zeros(1)"
   ]
  },
  {
   "cell_type": "code",
   "execution_count": 92,
   "metadata": {},
   "outputs": [],
   "source": [
    "feed_dict = {\n",
    "    # Node : value\n",
    "    X: X_,\n",
    "    y: y_,\n",
    "    W1: W1_,\n",
    "    b1: b1_,\n",
    "    W2: W2_,\n",
    "    b2: b2_\n",
    "}"
   ]
  },
  {
   "cell_type": "code",
   "execution_count": 93,
   "metadata": {},
   "outputs": [],
   "source": [
    "graph = toplogical_sort(feed_dict)"
   ]
  },
  {
   "cell_type": "code",
   "execution_count": 94,
   "metadata": {},
   "outputs": [
    {
     "data": {
      "text/plain": [
       "[Input Node: b2,\n",
       " Input Node: X,\n",
       " Input Node: W2,\n",
       " Input Node: W1,\n",
       " Input Node: b1,\n",
       " Input Node: y,\n",
       " <__main__.Linear at 0x1a236a3e10>,\n",
       " <__main__.Sigmoid at 0x1a23766588>,\n",
       " <__main__.Linear at 0x1a237929b0>,\n",
       " <__main__.MSE at 0x1a237928d0>]"
      ]
     },
     "execution_count": 94,
     "metadata": {},
     "output_type": "execute_result"
    }
   ],
   "source": [
    "# 经过拓扑排序后的节点列表\n",
    "graph"
   ]
  },
  {
   "cell_type": "code",
   "execution_count": 100,
   "metadata": {},
   "outputs": [
    {
     "name": "stdout",
     "output_type": "stream",
     "text": [
      "Total number of examples = 506, steps_per_epoch = 7\n"
     ]
    }
   ],
   "source": [
    "epochs = 100\n",
    "m = X_.shape[0]\n",
    "batch_size = 64\n",
    "steps_per_epoch = m // batch_size\n",
    "trainables = [W1, b1, W2, b2]\n",
    "losses = []\n",
    "print('Total number of examples = {}, steps_per_epoch = {}'.format(m, steps_per_epoch))"
   ]
  },
  {
   "cell_type": "code",
   "execution_count": 101,
   "metadata": {},
   "outputs": [
    {
     "name": "stdout",
     "output_type": "stream",
     "text": [
      "Epoch:0, Loss:523.829\n"
     ]
    }
   ],
   "source": [
    "for i in range(epochs):\n",
    "    loss = 0\n",
    "    \n",
    "    for j in range(steps_per_epoch):\n",
    "        X_batch, y_batch = resample(X_, y_, n_samples=batch_size)\n",
    "        X.value = X_batch\n",
    "        y.value = y_batch\n",
    "        \n",
    "        forward_and_backward(graph)\n",
    "        \n",
    "        rate = 1e-3\n",
    "        sgd_update(trainables, rate)\n",
    "        loss += graph[-1].value\n",
    "    \n",
    "    if i % 100 == 0:\n",
    "        print('Epoch:{}, Loss:{:.3f}'.format(i, loss / steps_per_epoch))\n",
    "        losses.append(loss)"
   ]
  },
  {
   "cell_type": "code",
   "execution_count": 65,
   "metadata": {},
   "outputs": [
    {
     "data": {
      "text/plain": [
       "[<matplotlib.lines.Line2D at 0x1a23594860>]"
      ]
     },
     "execution_count": 65,
     "metadata": {},
     "output_type": "execute_result"
    },
    {
     "data": {
      "image/png": "[encoded data removed]",
      "text/plain": [
       "<Figure size 432x288 with 1 Axes>"
      ]
     },
     "metadata": {
      "needs_background": "light"
     },
     "output_type": "display_data"
    }
   ],
   "source": [
    "import matplotlib.pyplot as plt\n",
    "plt.plot(range(len(losses)), losses)"
   ]
  }
 ],
 "metadata": {
  "kernelspec": {
   "display_name": "Python 3",
   "language": "python",
   "name": "python3"
  },
  "language_info": {
   "codemirror_mode": {
    "name": "ipython",
    "version": 3
   },
   "file_extension": ".py",
   "mimetype": "text/x-python",
   "name": "python",
   "nbconvert_exporter": "python",
   "pygments_lexer": "ipython3",
   "version": "3.6.8"
  }
 },
 "nbformat": 4,
 "nbformat_minor": 2
}
