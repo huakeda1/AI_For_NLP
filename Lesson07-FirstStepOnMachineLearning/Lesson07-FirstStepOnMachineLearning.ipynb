{
 "cells": [
  {
   "cell_type": "markdown",
   "metadata": {},
   "source": [
    "## 1. Mean/Mode/Median"
   ]
  },
  {
   "cell_type": "code",
   "execution_count": 2,
   "metadata": {},
   "outputs": [],
   "source": [
    "import numpy as np\n",
    "import random"
   ]
  },
  {
   "cell_type": "code",
   "execution_count": 3,
   "metadata": {},
   "outputs": [],
   "source": [
    "numbers = [random.randint(0, 100) for i in range(100)]"
   ]
  },
  {
   "cell_type": "code",
   "execution_count": 4,
   "metadata": {},
   "outputs": [
    {
     "data": {
      "text/plain": [
       "[16,\n",
       " 15,\n",
       " 91,\n",
       " 72,\n",
       " 65,\n",
       " 78,\n",
       " 5,\n",
       " 59,\n",
       " 10,\n",
       " 41,\n",
       " 42,\n",
       " 66,\n",
       " 100,\n",
       " 34,\n",
       " 95,\n",
       " 25,\n",
       " 5,\n",
       " 97,\n",
       " 27,\n",
       " 1,\n",
       " 45,\n",
       " 36,\n",
       " 1,\n",
       " 37,\n",
       " 1,\n",
       " 53,\n",
       " 44,\n",
       " 10,\n",
       " 77,\n",
       " 42,\n",
       " 62,\n",
       " 41,\n",
       " 81,\n",
       " 28,\n",
       " 84,\n",
       " 68,\n",
       " 19,\n",
       " 63,\n",
       " 24,\n",
       " 34,\n",
       " 36,\n",
       " 33,\n",
       " 32,\n",
       " 20,\n",
       " 32,\n",
       " 30,\n",
       " 2,\n",
       " 33,\n",
       " 10,\n",
       " 52,\n",
       " 17,\n",
       " 32,\n",
       " 80,\n",
       " 83,\n",
       " 95,\n",
       " 14,\n",
       " 8,\n",
       " 37,\n",
       " 17,\n",
       " 87,\n",
       " 62,\n",
       " 52,\n",
       " 46,\n",
       " 57,\n",
       " 32,\n",
       " 70,\n",
       " 12,\n",
       " 83,\n",
       " 15,\n",
       " 14,\n",
       " 28,\n",
       " 37,\n",
       " 20,\n",
       " 35,\n",
       " 82,\n",
       " 84,\n",
       " 99,\n",
       " 89,\n",
       " 71,\n",
       " 1,\n",
       " 81,\n",
       " 19,\n",
       " 13,\n",
       " 60,\n",
       " 36,\n",
       " 68,\n",
       " 80,\n",
       " 76,\n",
       " 3,\n",
       " 27,\n",
       " 31,\n",
       " 97,\n",
       " 63,\n",
       " 85,\n",
       " 53,\n",
       " 65,\n",
       " 95,\n",
       " 21,\n",
       " 71,\n",
       " 44]"
      ]
     },
     "execution_count": 4,
     "metadata": {},
     "output_type": "execute_result"
    }
   ],
   "source": [
    "numbers"
   ]
  },
  {
   "cell_type": "code",
   "execution_count": 9,
   "metadata": {},
   "outputs": [
    {
     "data": {
      "text/plain": [
       "46.21"
      ]
     },
     "execution_count": 9,
     "metadata": {},
     "output_type": "execute_result"
    }
   ],
   "source": [
    "# 平均值\n",
    "np.mean(numbers)"
   ]
  },
  {
   "cell_type": "code",
   "execution_count": 10,
   "metadata": {},
   "outputs": [
    {
     "data": {
      "text/plain": [
       "[1,\n",
       " 1,\n",
       " 1,\n",
       " 1,\n",
       " 2,\n",
       " 3,\n",
       " 5,\n",
       " 5,\n",
       " 8,\n",
       " 10,\n",
       " 10,\n",
       " 10,\n",
       " 12,\n",
       " 13,\n",
       " 14,\n",
       " 14,\n",
       " 15,\n",
       " 15,\n",
       " 16,\n",
       " 17,\n",
       " 17,\n",
       " 19,\n",
       " 19,\n",
       " 20,\n",
       " 20,\n",
       " 21,\n",
       " 24,\n",
       " 25,\n",
       " 27,\n",
       " 27,\n",
       " 28,\n",
       " 28,\n",
       " 30,\n",
       " 31,\n",
       " 32,\n",
       " 32,\n",
       " 32,\n",
       " 32,\n",
       " 33,\n",
       " 33,\n",
       " 34,\n",
       " 34,\n",
       " 35,\n",
       " 36,\n",
       " 36,\n",
       " 36,\n",
       " 37,\n",
       " 37,\n",
       " 37,\n",
       " 41,\n",
       " 41,\n",
       " 42,\n",
       " 42,\n",
       " 44,\n",
       " 44,\n",
       " 45,\n",
       " 46,\n",
       " 52,\n",
       " 52,\n",
       " 53,\n",
       " 53,\n",
       " 57,\n",
       " 59,\n",
       " 60,\n",
       " 62,\n",
       " 62,\n",
       " 63,\n",
       " 63,\n",
       " 65,\n",
       " 65,\n",
       " 66,\n",
       " 68,\n",
       " 68,\n",
       " 70,\n",
       " 71,\n",
       " 71,\n",
       " 72,\n",
       " 76,\n",
       " 77,\n",
       " 78,\n",
       " 80,\n",
       " 80,\n",
       " 81,\n",
       " 81,\n",
       " 82,\n",
       " 83,\n",
       " 83,\n",
       " 84,\n",
       " 84,\n",
       " 85,\n",
       " 87,\n",
       " 89,\n",
       " 91,\n",
       " 95,\n",
       " 95,\n",
       " 95,\n",
       " 97,\n",
       " 97,\n",
       " 99,\n",
       " 100]"
      ]
     },
     "execution_count": 10,
     "metadata": {},
     "output_type": "execute_result"
    }
   ],
   "source": [
    "sorted(numbers)"
   ]
  },
  {
   "cell_type": "code",
   "execution_count": 20,
   "metadata": {},
   "outputs": [
    {
     "data": {
      "text/plain": [
       "17.0"
      ]
     },
     "execution_count": 20,
     "metadata": {},
     "output_type": "execute_result"
    }
   ],
   "source": [
    "# 百分位数\n",
    "np.percentile(numbers, 20)"
   ]
  },
  {
   "cell_type": "code",
   "execution_count": 13,
   "metadata": {},
   "outputs": [
    {
     "data": {
      "text/plain": [
       "41.0"
      ]
     },
     "execution_count": 13,
     "metadata": {},
     "output_type": "execute_result"
    }
   ],
   "source": [
    "np.median(numbers)"
   ]
  },
  {
   "cell_type": "code",
   "execution_count": 21,
   "metadata": {},
   "outputs": [],
   "source": [
    "from scipy import stats"
   ]
  },
  {
   "cell_type": "code",
   "execution_count": 26,
   "metadata": {},
   "outputs": [
    {
     "data": {
      "text/plain": [
       "ModeResult(mode=array([1]), count=array([4]))"
      ]
     },
     "execution_count": 26,
     "metadata": {},
     "output_type": "execute_result"
    }
   ],
   "source": [
    "# 众数\n",
    "stats.mode(numbers)\n",
    "# 出现最多的是1， 共4次"
   ]
  },
  {
   "cell_type": "code",
   "execution_count": 24,
   "metadata": {},
   "outputs": [],
   "source": [
    "from collections import Counter"
   ]
  },
  {
   "cell_type": "code",
   "execution_count": 25,
   "metadata": {},
   "outputs": [
    {
     "data": {
      "text/plain": [
       "[(1, 4)]"
      ]
     },
     "execution_count": 25,
     "metadata": {},
     "output_type": "execute_result"
    }
   ],
   "source": [
    "Counter(numbers).most_common(1)"
   ]
  },
  {
   "cell_type": "markdown",
   "metadata": {},
   "source": [
    "+ 总结：\n",
    "    + mean：46.21\n",
    "    + median：41.0\n",
    "    + mode：1\n",
    "+ 根据平均值和中位数可以看出数据的分布情况；"
   ]
  },
  {
   "cell_type": "markdown",
   "metadata": {},
   "source": [
    "## 2. 标准差/方差"
   ]
  },
  {
   "cell_type": "code",
   "execution_count": 30,
   "metadata": {},
   "outputs": [],
   "source": [
    "numbers = [random.randint(0, 1000) for i in range(100)]"
   ]
  },
  {
   "cell_type": "code",
   "execution_count": 34,
   "metadata": {},
   "outputs": [],
   "source": [
    "std = np.std(numbers)"
   ]
  },
  {
   "cell_type": "code",
   "execution_count": 35,
   "metadata": {},
   "outputs": [],
   "source": [
    "mean = np.mean(numbers)"
   ]
  },
  {
   "cell_type": "code",
   "execution_count": 41,
   "metadata": {},
   "outputs": [
    {
     "data": {
      "text/plain": [
       "(277.4902852353574, 510.96)"
      ]
     },
     "execution_count": 41,
     "metadata": {},
     "output_type": "execute_result"
    }
   ],
   "source": [
    "std, mean"
   ]
  },
  {
   "cell_type": "markdown",
   "metadata": {},
   "source": [
    "## 3. Normalization"
   ]
  },
  {
   "cell_type": "markdown",
   "metadata": {},
   "source": [
    "$$ x_{normalized} = \\frac{x - \\bar X}{std} $$"
   ]
  },
  {
   "cell_type": "code",
   "execution_count": 38,
   "metadata": {},
   "outputs": [],
   "source": [
    "# Normalization\n",
    "numbers_norm = [(n - mean)/std for n in numbers]"
   ]
  },
  {
   "cell_type": "code",
   "execution_count": 39,
   "metadata": {},
   "outputs": [
    {
     "data": {
      "text/plain": [
       "0.9999999999999998"
      ]
     },
     "execution_count": 39,
     "metadata": {},
     "output_type": "execute_result"
    }
   ],
   "source": [
    "np.std(numbers_norm)"
   ]
  },
  {
   "cell_type": "code",
   "execution_count": 40,
   "metadata": {},
   "outputs": [
    {
     "data": {
      "text/plain": [
       "8.43769498715119e-17"
      ]
     },
     "execution_count": 40,
     "metadata": {},
     "output_type": "execute_result"
    }
   ],
   "source": [
    "np.mean(numbers_norm)"
   ]
  },
  {
   "cell_type": "markdown",
   "metadata": {},
   "source": [
    "## 4.Outlier"
   ]
  },
  {
   "cell_type": "code",
   "execution_count": 42,
   "metadata": {},
   "outputs": [
    {
     "data": {
      "text/plain": [
       "168.66666666666666"
      ]
     },
     "execution_count": 42,
     "metadata": {},
     "output_type": "execute_result"
    }
   ],
   "source": [
    "np.percentile(numbers, 25) / 1.5"
   ]
  },
  {
   "cell_type": "code",
   "execution_count": 43,
   "metadata": {},
   "outputs": [
    {
     "data": {
      "text/plain": [
       "[148, 109, 36, 147, 61, 136, 36, 82, 13, 158, 134, 18]"
      ]
     },
     "execution_count": 43,
     "metadata": {},
     "output_type": "execute_result"
    }
   ],
   "source": [
    "[n for n in numbers if n < np.percentile(numbers, 25) / 1.5]"
   ]
  },
  {
   "cell_type": "code",
   "execution_count": 45,
   "metadata": {},
   "outputs": [
    {
     "data": {
      "text/plain": [
       "1125.75"
      ]
     },
     "execution_count": 45,
     "metadata": {},
     "output_type": "execute_result"
    }
   ],
   "source": [
    "np.percentile(numbers, 75) * 1.5"
   ]
  },
  {
   "cell_type": "code",
   "execution_count": 46,
   "metadata": {},
   "outputs": [
    {
     "data": {
      "text/plain": [
       "[]"
      ]
     },
     "execution_count": 46,
     "metadata": {},
     "output_type": "execute_result"
    }
   ],
   "source": [
    "[n for n in numbers if n > np.percentile(numbers, 75) * 1.5]"
   ]
  }
 ],
 "metadata": {
  "kernelspec": {
   "display_name": "Python 3",
   "language": "python",
   "name": "python3"
  },
  "language_info": {
   "codemirror_mode": {
    "name": "ipython",
    "version": 3
   },
   "file_extension": ".py",
   "mimetype": "text/x-python",
   "name": "python",
   "nbconvert_exporter": "python",
   "pygments_lexer": "ipython3",
   "version": "3.6.8"
  }
 },
 "nbformat": 4,
 "nbformat_minor": 2
}
