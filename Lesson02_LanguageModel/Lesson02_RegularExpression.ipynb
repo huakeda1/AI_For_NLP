{
 "cells": [
  {
   "cell_type": "markdown",
   "metadata": {},
   "source": [
    "## 正则基本练习\n",
    " + 语法训练地址：[regexone](https://regexone.com)"
   ]
  },
  {
   "cell_type": "code",
   "execution_count": 1,
   "metadata": {},
   "outputs": [],
   "source": [
    " import re"
   ]
  },
  {
   "cell_type": "code",
   "execution_count": 2,
   "metadata": {},
   "outputs": [],
   "source": [
    "string = 'this is a BIGGGGG thing BI and BIGGGGGGGGGG'"
   ]
  },
  {
   "cell_type": "code",
   "execution_count": 3,
   "metadata": {},
   "outputs": [],
   "source": [
    "pattern = 'BIG+'"
   ]
  },
  {
   "cell_type": "code",
   "execution_count": 4,
   "metadata": {},
   "outputs": [
    {
     "data": {
      "text/plain": [
       "['BIGGGGG', 'BIGGGGGGGGGG']"
      ]
     },
     "execution_count": 4,
     "metadata": {},
     "output_type": "execute_result"
    }
   ],
   "source": [
    "re.findall(pattern, string)"
   ]
  },
  {
   "cell_type": "code",
   "execution_count": 5,
   "metadata": {},
   "outputs": [],
   "source": [
    "pattern2 = 'BIG*'"
   ]
  },
  {
   "cell_type": "code",
   "execution_count": 6,
   "metadata": {},
   "outputs": [
    {
     "data": {
      "text/plain": [
       "['BIGGGGG', 'BI', 'BIGGGGGGGGGG']"
      ]
     },
     "execution_count": 6,
     "metadata": {},
     "output_type": "execute_result"
    }
   ],
   "source": [
    "re.findall(pattern2, string)"
   ]
  },
  {
   "cell_type": "markdown",
   "metadata": {},
   "source": [
    "## 正则用于爬虫 "
   ]
  },
  {
   "cell_type": "code",
   "execution_count": 34,
   "metadata": {},
   "outputs": [],
   "source": [
    "import requests"
   ]
  },
  {
   "cell_type": "code",
   "execution_count": 41,
   "metadata": {},
   "outputs": [],
   "source": [
    "url = 'https://movie.douban.com'\n",
    "# 注意现在网站都有反爬机制\n",
    "headers = {'User-Agent': 'Mozilla/5.0 (Macintosh; Intel Mac OS X 10_15_2) AppleWebKit/537.36 (KHTML, like Gecko) Chrome/79.0.3945.79 Safari/537.36'}"
   ]
  },
  {
   "cell_type": "code",
   "execution_count": 42,
   "metadata": {},
   "outputs": [],
   "source": [
    "response = requests.get(url, headers=headers)"
   ]
  },
  {
   "cell_type": "code",
   "execution_count": 44,
   "metadata": {},
   "outputs": [],
   "source": [
    "# 注意问号需要转义\n",
    "url_pattern = re.compile('https://movie.douban.com/subject/\\d+/\\?from=showing')"
   ]
  },
  {
   "cell_type": "code",
   "execution_count": 45,
   "metadata": {},
   "outputs": [],
   "source": [
    "html_content = response.text"
   ]
  },
  {
   "cell_type": "code",
   "execution_count": 46,
   "metadata": {},
   "outputs": [
    {
     "name": "stdout",
     "output_type": "stream",
     "text": [
      "https://movie.douban.com/subject/27121248/?from=showing\n",
      "https://movie.douban.com/subject/27121248/?from=showing\n",
      "https://movie.douban.com/subject/27624665/?from=showing\n",
      "https://movie.douban.com/subject/27624665/?from=showing\n",
      "https://movie.douban.com/subject/27203005/?from=showing\n",
      "https://movie.douban.com/subject/27203005/?from=showing\n",
      "https://movie.douban.com/subject/30389258/?from=showing\n",
      "https://movie.douban.com/subject/30389258/?from=showing\n",
      "https://movie.douban.com/subject/33457717/?from=showing\n",
      "https://movie.douban.com/subject/33457717/?from=showing\n",
      "https://movie.douban.com/subject/34768418/?from=showing\n",
      "https://movie.douban.com/subject/34768418/?from=showing\n",
      "https://movie.douban.com/subject/27176831/?from=showing\n",
      "https://movie.douban.com/subject/27176831/?from=showing\n",
      "https://movie.douban.com/subject/34822531/?from=showing\n",
      "https://movie.douban.com/subject/34822531/?from=showing\n",
      "https://movie.douban.com/subject/34922185/?from=showing\n",
      "https://movie.douban.com/subject/34922185/?from=showing\n",
      "https://movie.douban.com/subject/30468745/?from=showing\n",
      "https://movie.douban.com/subject/30468745/?from=showing\n"
     ]
    }
   ],
   "source": [
    "for line in html_content.split():\n",
    "    match =  url_pattern.findall(line)\n",
    "    if match:\n",
    "        print(match[0])"
   ]
  }
 ],
 "metadata": {
  "kernelspec": {
   "display_name": "Python 3",
   "language": "python",
   "name": "python3"
  },
  "language_info": {
   "codemirror_mode": {
    "name": "ipython",
    "version": 3
   },
   "file_extension": ".py",
   "mimetype": "text/x-python",
   "name": "python",
   "nbconvert_exporter": "python",
   "pygments_lexer": "ipython3",
   "version": "3.6.8"
  }
 },
 "nbformat": 4,
 "nbformat_minor": 2
}
