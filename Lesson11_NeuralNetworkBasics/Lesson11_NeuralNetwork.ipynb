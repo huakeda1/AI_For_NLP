{
 "cells": [
  {
   "cell_type": "code",
   "execution_count": 3,
   "metadata": {},
   "outputs": [],
   "source": [
    "import random"
   ]
  },
  {
   "cell_type": "code",
   "execution_count": 16,
   "metadata": {},
   "outputs": [],
   "source": [
    "def f(w):\n",
    "    return 100 * w ** 2 + 49 * w + 32"
   ]
  },
  {
   "cell_type": "code",
   "execution_count": 17,
   "metadata": {},
   "outputs": [],
   "source": [
    "def df(w):\n",
    "    return 200 * w + 49"
   ]
  },
  {
   "cell_type": "code",
   "execution_count": 20,
   "metadata": {},
   "outputs": [],
   "source": [
    "w = random.randint(-100, 100)\n",
    "learning_rate = 0.001\n",
    "epochs = 0"
   ]
  },
  {
   "cell_type": "code",
   "execution_count": 21,
   "metadata": {},
   "outputs": [
    {
     "name": "stdout",
     "output_type": "stream",
     "text": [
      "EPOCH0: Loss=735418.000, Gradient=-17151.000, w=-68.849\n",
      "EPOCH1: Loss=470676.879, Gradient=-13720.800, w=-55.128\n",
      "EPOCH2: Loss=301242.562, Gradient=-10976.640, w=-44.152\n",
      "EPOCH3: Loss=192804.599, Gradient=-8781.312, w=-35.370\n",
      "EPOCH4: Loss=123404.302, Gradient=-7025.050, w=-28.345\n",
      "EPOCH5: Loss=78988.113, Gradient=-5620.040, w=-22.725\n",
      "EPOCH6: Loss=50561.751, Gradient=-4496.032, w=-18.229\n",
      "EPOCH7: Loss=32368.880, Gradient=-3596.825, w=-14.632\n",
      "EPOCH8: Loss=20725.442, Gradient=-2877.460, w=-11.755\n",
      "EPOCH9: Loss=13273.642, Gradient=-2301.968, w=-9.453\n",
      "EPOCH10: Loss=8504.490, Gradient=-1841.575, w=-7.611\n",
      "EPOCH11: Loss=5452.233, Gradient=-1473.260, w=-6.138\n",
      "EPOCH12: Loss=3498.788, Gradient=-1178.608, w=-4.959\n",
      "EPOCH13: Loss=2248.583, Gradient=-942.886, w=-4.017\n",
      "EPOCH14: Loss=1448.453, Gradient=-754.309, w=-3.262\n",
      "EPOCH15: Loss=936.369, Gradient=-603.447, w=-2.659\n",
      "EPOCH16: Loss=608.635, Gradient=-482.758, w=-2.176\n",
      "EPOCH17: Loss=398.886, Gradient=-386.206, w=-1.790\n",
      "EPOCH18: Loss=264.646, Gradient=-308.965, w=-1.481\n",
      "EPOCH19: Loss=178.732, Gradient=-247.172, w=-1.234\n",
      "EPOCH20: Loss=123.748, Gradient=-197.738, w=-1.036\n",
      "EPOCH21: Loss=88.558, Gradient=-158.190, w=-0.878\n",
      "EPOCH22: Loss=66.036, Gradient=-126.552, w=-0.751\n",
      "EPOCH23: Loss=51.622, Gradient=-101.242, w=-0.650\n",
      "EPOCH24: Loss=42.397, Gradient=-80.993, w=-0.569\n",
      "EPOCH25: Loss=36.493, Gradient=-64.795, w=-0.504\n",
      "EPOCH26: Loss=32.715, Gradient=-51.836, w=-0.452\n",
      "EPOCH27: Loss=30.297, Gradient=-41.469, w=-0.411\n",
      "EPOCH28: Loss=28.749, Gradient=-33.175, w=-0.378\n",
      "EPOCH29: Loss=27.758, Gradient=-26.540, w=-0.351\n",
      "EPOCH30: Loss=27.124, Gradient=-21.232, w=-0.330\n",
      "EPOCH31: Loss=26.719, Gradient=-16.986, w=-0.313\n",
      "EPOCH32: Loss=26.459, Gradient=-13.588, w=-0.299\n",
      "EPOCH33: Loss=26.293, Gradient=-10.871, w=-0.288\n",
      "EPOCH34: Loss=26.187, Gradient=-8.697, w=-0.280\n",
      "EPOCH35: Loss=26.119, Gradient=-6.957, w=-0.273\n",
      "EPOCH36: Loss=26.075, Gradient=-5.566, w=-0.267\n",
      "EPOCH37: Loss=26.047, Gradient=-4.453, w=-0.263\n",
      "EPOCH38: Loss=26.029, Gradient=-3.562, w=-0.259\n",
      "EPOCH39: Loss=26.018, Gradient=-2.850, w=-0.256\n",
      "EPOCH40: Loss=26.010, Gradient=-2.280, w=-0.254\n",
      "EPOCH41: Loss=26.006, Gradient=-1.824, w=-0.252\n",
      "EPOCH42: Loss=26.003, Gradient=-1.459, w=-0.251\n",
      "EPOCH43: Loss=26.001, Gradient=-1.167, w=-0.250\n",
      "EPOCH44: Loss=26.000, Gradient=-0.934, w=-0.249\n",
      "EPOCH45: Loss=25.999, Gradient=-0.747, w=-0.248\n",
      "EPOCH46: Loss=25.998, Gradient=-0.598, w=-0.247\n",
      "EPOCH47: Loss=25.998, Gradient=-0.478, w=-0.247\n",
      "EPOCH48: Loss=25.998, Gradient=-0.382, w=-0.247\n",
      "EPOCH49: Loss=25.998, Gradient=-0.306, w=-0.246\n",
      "EPOCH50: Loss=25.998, Gradient=-0.245, w=-0.246\n",
      "EPOCH51: Loss=25.998, Gradient=-0.196, w=-0.246\n",
      "EPOCH52: Loss=25.998, Gradient=-0.157, w=-0.246\n",
      "EPOCH53: Loss=25.998, Gradient=-0.125, w=-0.246\n",
      "EPOCH54: Loss=25.998, Gradient=-0.100, w=-0.245\n",
      "EPOCH55: Loss=25.998, Gradient=-0.080, w=-0.245\n",
      "EPOCH56: Loss=25.998, Gradient=-0.064, w=-0.245\n",
      "EPOCH57: Loss=25.998, Gradient=-0.051, w=-0.245\n",
      "EPOCH58: Loss=25.998, Gradient=-0.041, w=-0.245\n",
      "EPOCH59: Loss=25.998, Gradient=-0.033, w=-0.245\n",
      "EPOCH60: Loss=25.998, Gradient=-0.026, w=-0.245\n",
      "EPOCH61: Loss=25.998, Gradient=-0.021, w=-0.245\n",
      "EPOCH62: Loss=25.998, Gradient=-0.017, w=-0.245\n",
      "EPOCH63: Loss=25.998, Gradient=-0.013, w=-0.245\n",
      "EPOCH64: Loss=25.998, Gradient=-0.011, w=-0.245\n",
      "EPOCH65: Loss=25.998, Gradient=-0.009, w=-0.245\n",
      "EPOCH66: Loss=25.998, Gradient=-0.007, w=-0.245\n",
      "EPOCH67: Loss=25.998, Gradient=-0.006, w=-0.245\n",
      "EPOCH68: Loss=25.998, Gradient=-0.004, w=-0.245\n",
      "EPOCH69: Loss=25.998, Gradient=-0.004, w=-0.245\n",
      "EPOCH70: Loss=25.998, Gradient=-0.003, w=-0.245\n",
      "EPOCH71: Loss=25.998, Gradient=-0.002, w=-0.245\n",
      "EPOCH72: Loss=25.998, Gradient=-0.002, w=-0.245\n",
      "EPOCH73: Loss=25.998, Gradient=-0.001, w=-0.245\n",
      "EPOCH74: Loss=25.998, Gradient=-0.001, w=-0.245\n",
      "EPOCH75: Loss=25.998, Gradient=-0.001, w=-0.245\n",
      "EPOCH76: Loss=25.998, Gradient=-0.001, w=-0.245\n",
      "EPOCH77: Loss=25.998, Gradient=-0.001, w=-0.245\n",
      "EPOCH78: Loss=25.998, Gradient=-0.000, w=-0.245\n",
      "EPOCH79: Loss=25.998, Gradient=-0.000, w=-0.245\n",
      "EPOCH80: Loss=25.998, Gradient=-0.000, w=-0.245\n",
      "EPOCH81: Loss=25.998, Gradient=-0.000, w=-0.245\n",
      "EPOCH82: Loss=25.998, Gradient=-0.000, w=-0.245\n",
      "EPOCH83: Loss=25.998, Gradient=-0.000, w=-0.245\n",
      "EPOCH84: Loss=25.998, Gradient=-0.000, w=-0.245\n"
     ]
    }
   ],
   "source": [
    "while abs(w - old_w) > 1.0e-7:\n",
    "    cost = f(w)\n",
    "    grad_w = df(w)\n",
    "    w -= learning_rate * grad_w\n",
    "    print('EPOCH{}: Loss={:.3f}, Gradient={:.3f}, w={:.3f}'.format(epochs, cost, grad_w, w))\n",
    "    epochs += 1"
   ]
  },
  {
   "cell_type": "markdown",
   "metadata": {},
   "source": [
    "https://cs231n.github.io/neural-networks-3/#sgd"
   ]
  },
  {
   "cell_type": "code",
   "execution_count": null,
   "metadata": {},
   "outputs": [],
   "source": []
  },
  {
   "cell_type": "code",
   "execution_count": null,
   "metadata": {},
   "outputs": [],
   "source": []
  },
  {
   "cell_type": "code",
   "execution_count": null,
   "metadata": {},
   "outputs": [],
   "source": []
  },
  {
   "cell_type": "code",
   "execution_count": null,
   "metadata": {},
   "outputs": [],
   "source": []
  }
 ],
 "metadata": {
  "kernelspec": {
   "display_name": "Python 3",
   "language": "python",
   "name": "python3"
  },
  "language_info": {
   "codemirror_mode": {
    "name": "ipython",
    "version": 3
   },
   "file_extension": ".py",
   "mimetype": "text/x-python",
   "name": "python",
   "nbconvert_exporter": "python",
   "pygments_lexer": "ipython3",
   "version": "3.6.8"
  }
 },
 "nbformat": 4,
 "nbformat_minor": 2
}
