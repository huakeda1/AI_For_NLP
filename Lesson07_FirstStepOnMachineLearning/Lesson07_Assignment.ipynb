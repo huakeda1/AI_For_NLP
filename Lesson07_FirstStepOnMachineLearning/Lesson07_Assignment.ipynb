{
 "cells": [
  {
   "cell_type": "markdown",
   "metadata": {},
   "source": [
    "### Summarize the reasons of overfitting and underfitting.\n",
    "+ Underfitting:\n",
    "    + 模型过于简单；\n",
    "\n",
    "  \n",
    "+ Overfitting:\n",
    "    + 训练数据太少；\n",
    "    + 模型过于复杂；\n",
    "    + 有数据噪声；"
   ]
  }
 ],
 "metadata": {
  "kernelspec": {
   "display_name": "Python 3",
   "language": "python",
   "name": "python3"
  },
  "language_info": {
   "codemirror_mode": {
    "name": "ipython",
    "version": 3
   },
   "file_extension": ".py",
   "mimetype": "text/x-python",
   "name": "python",
   "nbconvert_exporter": "python",
   "pygments_lexer": "ipython3",
   "version": "3.6.8"
  }
 },
 "nbformat": 4,
 "nbformat_minor": 2
}
